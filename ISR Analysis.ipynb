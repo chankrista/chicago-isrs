{
 "cells": [
  {
   "cell_type": "code",
   "execution_count": 54,
   "metadata": {},
   "outputs": [
    {
     "name": "stderr",
     "output_type": "stream",
     "text": [
      "C:\\ProgramData\\Anaconda3\\lib\\site-packages\\IPython\\extensions\\autoreload.py:378: DtypeWarning: Columns (0,4,11,12,13,14,16,18,19,22,23,29,35,37,38,39,40,41,42,43,44,45,46,47,48,49,50,51,52,54,59,63,64,65,72,74,75,99,100,101,102,103,104,109,110,111,120,121,132,134,138,139,140,141,142,143,144,145,146,147,148,149,150,152,153,154,155,156,157,159,161,163,166,169) have mixed types. Specify dtype option on import or set low_memory=False.\n",
      "  module = reload(module)\n",
      "C:\\ProgramData\\Anaconda3\\lib\\site-packages\\IPython\\extensions\\autoreload.py:378: DtypeWarning: Columns (0,4,11,13,14,16,18,19,22,23,29,35,37,38,39,40,41,42,43,44,45,46,47,48,49,50,51,52,54,59,63,64,65,66,72,74,75,100,102,103,104,110,111,117,119,120,121,132,134,138,139,140,141,142,143,144,146,148,150,152,153,154,155,156,157,159,161,163,164,166,169) have mixed types. Specify dtype option on import or set low_memory=False.\n",
      "  module = reload(module)\n",
      "C:\\ProgramData\\Anaconda3\\lib\\site-packages\\IPython\\extensions\\autoreload.py:378: DtypeWarning: Columns (0,4,10,12,13,15,17,18,21,22,28,34,36,37,38,39,40,41,42,43,44,45,46,47,48,49,50,51,53,58,62,63,64,71,73,74,99,101,102,103,109,110,116,118,119,120,121,122,131,133,137,138,139,140,141,142,143,145,146,147,148,149,151,152,153,154,155,156,158,160,162,165,168) have mixed types. Specify dtype option on import or set low_memory=False.\n",
      "  module = reload(module)\n"
     ]
    },
    {
     "data": {
      "text/html": [
       "\n",
       "    <div class=\"bk-root\">\n",
       "        <a href=\"https://bokeh.org\" target=\"_blank\" class=\"bk-logo bk-logo-small bk-logo-notebook\"></a>\n",
       "        <span id=\"5788\">Loading BokehJS ...</span>\n",
       "    </div>"
      ]
     },
     "metadata": {},
     "output_type": "display_data"
    },
    {
     "data": {
      "application/javascript": [
       "\n",
       "(function(root) {\n",
       "  function now() {\n",
       "    return new Date();\n",
       "  }\n",
       "\n",
       "  var force = true;\n",
       "\n",
       "  if (typeof root._bokeh_onload_callbacks === \"undefined\" || force === true) {\n",
       "    root._bokeh_onload_callbacks = [];\n",
       "    root._bokeh_is_loading = undefined;\n",
       "  }\n",
       "\n",
       "  var JS_MIME_TYPE = 'application/javascript';\n",
       "  var HTML_MIME_TYPE = 'text/html';\n",
       "  var EXEC_MIME_TYPE = 'application/vnd.bokehjs_exec.v0+json';\n",
       "  var CLASS_NAME = 'output_bokeh rendered_html';\n",
       "\n",
       "  /**\n",
       "   * Render data to the DOM node\n",
       "   */\n",
       "  function render(props, node) {\n",
       "    var script = document.createElement(\"script\");\n",
       "    node.appendChild(script);\n",
       "  }\n",
       "\n",
       "  /**\n",
       "   * Handle when an output is cleared or removed\n",
       "   */\n",
       "  function handleClearOutput(event, handle) {\n",
       "    var cell = handle.cell;\n",
       "\n",
       "    var id = cell.output_area._bokeh_element_id;\n",
       "    var server_id = cell.output_area._bokeh_server_id;\n",
       "    // Clean up Bokeh references\n",
       "    if (id != null && id in Bokeh.index) {\n",
       "      Bokeh.index[id].model.document.clear();\n",
       "      delete Bokeh.index[id];\n",
       "    }\n",
       "\n",
       "    if (server_id !== undefined) {\n",
       "      // Clean up Bokeh references\n",
       "      var cmd = \"from bokeh.io.state import curstate; print(curstate().uuid_to_server['\" + server_id + \"'].get_sessions()[0].document.roots[0]._id)\";\n",
       "      cell.notebook.kernel.execute(cmd, {\n",
       "        iopub: {\n",
       "          output: function(msg) {\n",
       "            var id = msg.content.text.trim();\n",
       "            if (id in Bokeh.index) {\n",
       "              Bokeh.index[id].model.document.clear();\n",
       "              delete Bokeh.index[id];\n",
       "            }\n",
       "          }\n",
       "        }\n",
       "      });\n",
       "      // Destroy server and session\n",
       "      var cmd = \"import bokeh.io.notebook as ion; ion.destroy_server('\" + server_id + \"')\";\n",
       "      cell.notebook.kernel.execute(cmd);\n",
       "    }\n",
       "  }\n",
       "\n",
       "  /**\n",
       "   * Handle when a new output is added\n",
       "   */\n",
       "  function handleAddOutput(event, handle) {\n",
       "    var output_area = handle.output_area;\n",
       "    var output = handle.output;\n",
       "\n",
       "    // limit handleAddOutput to display_data with EXEC_MIME_TYPE content only\n",
       "    if ((output.output_type != \"display_data\") || (!output.data.hasOwnProperty(EXEC_MIME_TYPE))) {\n",
       "      return\n",
       "    }\n",
       "\n",
       "    var toinsert = output_area.element.find(\".\" + CLASS_NAME.split(' ')[0]);\n",
       "\n",
       "    if (output.metadata[EXEC_MIME_TYPE][\"id\"] !== undefined) {\n",
       "      toinsert[toinsert.length - 1].firstChild.textContent = output.data[JS_MIME_TYPE];\n",
       "      // store reference to embed id on output_area\n",
       "      output_area._bokeh_element_id = output.metadata[EXEC_MIME_TYPE][\"id\"];\n",
       "    }\n",
       "    if (output.metadata[EXEC_MIME_TYPE][\"server_id\"] !== undefined) {\n",
       "      var bk_div = document.createElement(\"div\");\n",
       "      bk_div.innerHTML = output.data[HTML_MIME_TYPE];\n",
       "      var script_attrs = bk_div.children[0].attributes;\n",
       "      for (var i = 0; i < script_attrs.length; i++) {\n",
       "        toinsert[toinsert.length - 1].firstChild.setAttribute(script_attrs[i].name, script_attrs[i].value);\n",
       "      }\n",
       "      // store reference to server id on output_area\n",
       "      output_area._bokeh_server_id = output.metadata[EXEC_MIME_TYPE][\"server_id\"];\n",
       "    }\n",
       "  }\n",
       "\n",
       "  function register_renderer(events, OutputArea) {\n",
       "\n",
       "    function append_mime(data, metadata, element) {\n",
       "      // create a DOM node to render to\n",
       "      var toinsert = this.create_output_subarea(\n",
       "        metadata,\n",
       "        CLASS_NAME,\n",
       "        EXEC_MIME_TYPE\n",
       "      );\n",
       "      this.keyboard_manager.register_events(toinsert);\n",
       "      // Render to node\n",
       "      var props = {data: data, metadata: metadata[EXEC_MIME_TYPE]};\n",
       "      render(props, toinsert[toinsert.length - 1]);\n",
       "      element.append(toinsert);\n",
       "      return toinsert\n",
       "    }\n",
       "\n",
       "    /* Handle when an output is cleared or removed */\n",
       "    events.on('clear_output.CodeCell', handleClearOutput);\n",
       "    events.on('delete.Cell', handleClearOutput);\n",
       "\n",
       "    /* Handle when a new output is added */\n",
       "    events.on('output_added.OutputArea', handleAddOutput);\n",
       "\n",
       "    /**\n",
       "     * Register the mime type and append_mime function with output_area\n",
       "     */\n",
       "    OutputArea.prototype.register_mime_type(EXEC_MIME_TYPE, append_mime, {\n",
       "      /* Is output safe? */\n",
       "      safe: true,\n",
       "      /* Index of renderer in `output_area.display_order` */\n",
       "      index: 0\n",
       "    });\n",
       "  }\n",
       "\n",
       "  // register the mime type if in Jupyter Notebook environment and previously unregistered\n",
       "  if (root.Jupyter !== undefined) {\n",
       "    var events = require('base/js/events');\n",
       "    var OutputArea = require('notebook/js/outputarea').OutputArea;\n",
       "\n",
       "    if (OutputArea.prototype.mime_types().indexOf(EXEC_MIME_TYPE) == -1) {\n",
       "      register_renderer(events, OutputArea);\n",
       "    }\n",
       "  }\n",
       "\n",
       "  \n",
       "  if (typeof (root._bokeh_timeout) === \"undefined\" || force === true) {\n",
       "    root._bokeh_timeout = Date.now() + 5000;\n",
       "    root._bokeh_failed_load = false;\n",
       "  }\n",
       "\n",
       "  var NB_LOAD_WARNING = {'data': {'text/html':\n",
       "     \"<div style='background-color: #fdd'>\\n\"+\n",
       "     \"<p>\\n\"+\n",
       "     \"BokehJS does not appear to have successfully loaded. If loading BokehJS from CDN, this \\n\"+\n",
       "     \"may be due to a slow or bad network connection. Possible fixes:\\n\"+\n",
       "     \"</p>\\n\"+\n",
       "     \"<ul>\\n\"+\n",
       "     \"<li>re-rerun `output_notebook()` to attempt to load from CDN again, or</li>\\n\"+\n",
       "     \"<li>use INLINE resources instead, as so:</li>\\n\"+\n",
       "     \"</ul>\\n\"+\n",
       "     \"<code>\\n\"+\n",
       "     \"from bokeh.resources import INLINE\\n\"+\n",
       "     \"output_notebook(resources=INLINE)\\n\"+\n",
       "     \"</code>\\n\"+\n",
       "     \"</div>\"}};\n",
       "\n",
       "  function display_loaded() {\n",
       "    var el = document.getElementById(\"5788\");\n",
       "    if (el != null) {\n",
       "      el.textContent = \"BokehJS is loading...\";\n",
       "    }\n",
       "    if (root.Bokeh !== undefined) {\n",
       "      if (el != null) {\n",
       "        el.textContent = \"BokehJS \" + root.Bokeh.version + \" successfully loaded.\";\n",
       "      }\n",
       "    } else if (Date.now() < root._bokeh_timeout) {\n",
       "      setTimeout(display_loaded, 100)\n",
       "    }\n",
       "  }\n",
       "\n",
       "\n",
       "  function run_callbacks() {\n",
       "    try {\n",
       "      root._bokeh_onload_callbacks.forEach(function(callback) {\n",
       "        if (callback != null)\n",
       "          callback();\n",
       "      });\n",
       "    } finally {\n",
       "      delete root._bokeh_onload_callbacks\n",
       "    }\n",
       "    console.debug(\"Bokeh: all callbacks have finished\");\n",
       "  }\n",
       "\n",
       "  function load_libs(css_urls, js_urls, callback) {\n",
       "    if (css_urls == null) css_urls = [];\n",
       "    if (js_urls == null) js_urls = [];\n",
       "\n",
       "    root._bokeh_onload_callbacks.push(callback);\n",
       "    if (root._bokeh_is_loading > 0) {\n",
       "      console.debug(\"Bokeh: BokehJS is being loaded, scheduling callback at\", now());\n",
       "      return null;\n",
       "    }\n",
       "    if (js_urls == null || js_urls.length === 0) {\n",
       "      run_callbacks();\n",
       "      return null;\n",
       "    }\n",
       "    console.debug(\"Bokeh: BokehJS not loaded, scheduling load and callback at\", now());\n",
       "    root._bokeh_is_loading = css_urls.length + js_urls.length;\n",
       "\n",
       "    function on_load() {\n",
       "      root._bokeh_is_loading--;\n",
       "      if (root._bokeh_is_loading === 0) {\n",
       "        console.debug(\"Bokeh: all BokehJS libraries/stylesheets loaded\");\n",
       "        run_callbacks()\n",
       "      }\n",
       "    }\n",
       "\n",
       "    function on_error() {\n",
       "      console.error(\"failed to load \" + url);\n",
       "    }\n",
       "\n",
       "    for (var i = 0; i < css_urls.length; i++) {\n",
       "      var url = css_urls[i];\n",
       "      const element = document.createElement(\"link\");\n",
       "      element.onload = on_load;\n",
       "      element.onerror = on_error;\n",
       "      element.rel = \"stylesheet\";\n",
       "      element.type = \"text/css\";\n",
       "      element.href = url;\n",
       "      console.debug(\"Bokeh: injecting link tag for BokehJS stylesheet: \", url);\n",
       "      document.body.appendChild(element);\n",
       "    }\n",
       "\n",
       "    for (var i = 0; i < js_urls.length; i++) {\n",
       "      var url = js_urls[i];\n",
       "      var element = document.createElement('script');\n",
       "      element.onload = on_load;\n",
       "      element.onerror = on_error;\n",
       "      element.async = false;\n",
       "      element.src = url;\n",
       "      console.debug(\"Bokeh: injecting script tag for BokehJS library: \", url);\n",
       "      document.head.appendChild(element);\n",
       "    }\n",
       "  };var element = document.getElementById(\"5788\");\n",
       "  if (element == null) {\n",
       "    console.error(\"Bokeh: ERROR: autoload.js configured with elementid '5788' but no matching script tag was found. \")\n",
       "    return false;\n",
       "  }\n",
       "\n",
       "  function inject_raw_css(css) {\n",
       "    const element = document.createElement(\"style\");\n",
       "    element.appendChild(document.createTextNode(css));\n",
       "    document.body.appendChild(element);\n",
       "  }\n",
       "\n",
       "  \n",
       "  var js_urls = [\"https://cdn.pydata.org/bokeh/release/bokeh-1.4.0.min.js\", \"https://cdn.pydata.org/bokeh/release/bokeh-widgets-1.4.0.min.js\", \"https://cdn.pydata.org/bokeh/release/bokeh-tables-1.4.0.min.js\", \"https://cdn.pydata.org/bokeh/release/bokeh-gl-1.4.0.min.js\"];\n",
       "  var css_urls = [];\n",
       "  \n",
       "\n",
       "  var inline_js = [\n",
       "    function(Bokeh) {\n",
       "      Bokeh.set_log_level(\"info\");\n",
       "    },\n",
       "    function(Bokeh) {\n",
       "    \n",
       "    \n",
       "    }\n",
       "  ];\n",
       "\n",
       "  function run_inline_js() {\n",
       "    \n",
       "    if (root.Bokeh !== undefined || force === true) {\n",
       "      \n",
       "    for (var i = 0; i < inline_js.length; i++) {\n",
       "      inline_js[i].call(root, root.Bokeh);\n",
       "    }\n",
       "    if (force === true) {\n",
       "        display_loaded();\n",
       "      }} else if (Date.now() < root._bokeh_timeout) {\n",
       "      setTimeout(run_inline_js, 100);\n",
       "    } else if (!root._bokeh_failed_load) {\n",
       "      console.log(\"Bokeh: BokehJS failed to load within specified timeout.\");\n",
       "      root._bokeh_failed_load = true;\n",
       "    } else if (force !== true) {\n",
       "      var cell = $(document.getElementById(\"5788\")).parents('.cell').data().cell;\n",
       "      cell.output_area.append_execute_result(NB_LOAD_WARNING)\n",
       "    }\n",
       "\n",
       "  }\n",
       "\n",
       "  if (root._bokeh_is_loading === 0) {\n",
       "    console.debug(\"Bokeh: BokehJS loaded, going straight to plotting\");\n",
       "    run_inline_js();\n",
       "  } else {\n",
       "    load_libs(css_urls, js_urls, function() {\n",
       "      console.debug(\"Bokeh: BokehJS plotting callback run at\", now());\n",
       "      run_inline_js();\n",
       "    });\n",
       "  }\n",
       "}(window));"
      ],
      "application/vnd.bokehjs_load.v0+json": "\n(function(root) {\n  function now() {\n    return new Date();\n  }\n\n  var force = true;\n\n  if (typeof root._bokeh_onload_callbacks === \"undefined\" || force === true) {\n    root._bokeh_onload_callbacks = [];\n    root._bokeh_is_loading = undefined;\n  }\n\n  \n\n  \n  if (typeof (root._bokeh_timeout) === \"undefined\" || force === true) {\n    root._bokeh_timeout = Date.now() + 5000;\n    root._bokeh_failed_load = false;\n  }\n\n  var NB_LOAD_WARNING = {'data': {'text/html':\n     \"<div style='background-color: #fdd'>\\n\"+\n     \"<p>\\n\"+\n     \"BokehJS does not appear to have successfully loaded. If loading BokehJS from CDN, this \\n\"+\n     \"may be due to a slow or bad network connection. Possible fixes:\\n\"+\n     \"</p>\\n\"+\n     \"<ul>\\n\"+\n     \"<li>re-rerun `output_notebook()` to attempt to load from CDN again, or</li>\\n\"+\n     \"<li>use INLINE resources instead, as so:</li>\\n\"+\n     \"</ul>\\n\"+\n     \"<code>\\n\"+\n     \"from bokeh.resources import INLINE\\n\"+\n     \"output_notebook(resources=INLINE)\\n\"+\n     \"</code>\\n\"+\n     \"</div>\"}};\n\n  function display_loaded() {\n    var el = document.getElementById(\"5788\");\n    if (el != null) {\n      el.textContent = \"BokehJS is loading...\";\n    }\n    if (root.Bokeh !== undefined) {\n      if (el != null) {\n        el.textContent = \"BokehJS \" + root.Bokeh.version + \" successfully loaded.\";\n      }\n    } else if (Date.now() < root._bokeh_timeout) {\n      setTimeout(display_loaded, 100)\n    }\n  }\n\n\n  function run_callbacks() {\n    try {\n      root._bokeh_onload_callbacks.forEach(function(callback) {\n        if (callback != null)\n          callback();\n      });\n    } finally {\n      delete root._bokeh_onload_callbacks\n    }\n    console.debug(\"Bokeh: all callbacks have finished\");\n  }\n\n  function load_libs(css_urls, js_urls, callback) {\n    if (css_urls == null) css_urls = [];\n    if (js_urls == null) js_urls = [];\n\n    root._bokeh_onload_callbacks.push(callback);\n    if (root._bokeh_is_loading > 0) {\n      console.debug(\"Bokeh: BokehJS is being loaded, scheduling callback at\", now());\n      return null;\n    }\n    if (js_urls == null || js_urls.length === 0) {\n      run_callbacks();\n      return null;\n    }\n    console.debug(\"Bokeh: BokehJS not loaded, scheduling load and callback at\", now());\n    root._bokeh_is_loading = css_urls.length + js_urls.length;\n\n    function on_load() {\n      root._bokeh_is_loading--;\n      if (root._bokeh_is_loading === 0) {\n        console.debug(\"Bokeh: all BokehJS libraries/stylesheets loaded\");\n        run_callbacks()\n      }\n    }\n\n    function on_error() {\n      console.error(\"failed to load \" + url);\n    }\n\n    for (var i = 0; i < css_urls.length; i++) {\n      var url = css_urls[i];\n      const element = document.createElement(\"link\");\n      element.onload = on_load;\n      element.onerror = on_error;\n      element.rel = \"stylesheet\";\n      element.type = \"text/css\";\n      element.href = url;\n      console.debug(\"Bokeh: injecting link tag for BokehJS stylesheet: \", url);\n      document.body.appendChild(element);\n    }\n\n    for (var i = 0; i < js_urls.length; i++) {\n      var url = js_urls[i];\n      var element = document.createElement('script');\n      element.onload = on_load;\n      element.onerror = on_error;\n      element.async = false;\n      element.src = url;\n      console.debug(\"Bokeh: injecting script tag for BokehJS library: \", url);\n      document.head.appendChild(element);\n    }\n  };var element = document.getElementById(\"5788\");\n  if (element == null) {\n    console.error(\"Bokeh: ERROR: autoload.js configured with elementid '5788' but no matching script tag was found. \")\n    return false;\n  }\n\n  function inject_raw_css(css) {\n    const element = document.createElement(\"style\");\n    element.appendChild(document.createTextNode(css));\n    document.body.appendChild(element);\n  }\n\n  \n  var js_urls = [\"https://cdn.pydata.org/bokeh/release/bokeh-1.4.0.min.js\", \"https://cdn.pydata.org/bokeh/release/bokeh-widgets-1.4.0.min.js\", \"https://cdn.pydata.org/bokeh/release/bokeh-tables-1.4.0.min.js\", \"https://cdn.pydata.org/bokeh/release/bokeh-gl-1.4.0.min.js\"];\n  var css_urls = [];\n  \n\n  var inline_js = [\n    function(Bokeh) {\n      Bokeh.set_log_level(\"info\");\n    },\n    function(Bokeh) {\n    \n    \n    }\n  ];\n\n  function run_inline_js() {\n    \n    if (root.Bokeh !== undefined || force === true) {\n      \n    for (var i = 0; i < inline_js.length; i++) {\n      inline_js[i].call(root, root.Bokeh);\n    }\n    if (force === true) {\n        display_loaded();\n      }} else if (Date.now() < root._bokeh_timeout) {\n      setTimeout(run_inline_js, 100);\n    } else if (!root._bokeh_failed_load) {\n      console.log(\"Bokeh: BokehJS failed to load within specified timeout.\");\n      root._bokeh_failed_load = true;\n    } else if (force !== true) {\n      var cell = $(document.getElementById(\"5788\")).parents('.cell').data().cell;\n      cell.output_area.append_execute_result(NB_LOAD_WARNING)\n    }\n\n  }\n\n  if (root._bokeh_is_loading === 0) {\n    console.debug(\"Bokeh: BokehJS loaded, going straight to plotting\");\n    run_inline_js();\n  } else {\n    load_libs(css_urls, js_urls, function() {\n      console.debug(\"Bokeh: BokehJS plotting callback run at\", now());\n      run_inline_js();\n    });\n  }\n}(window));"
     },
     "metadata": {},
     "output_type": "display_data"
    }
   ],
   "source": [
    "import pandas as pd\n",
    "import clean_data\n",
    "import bokeh\n",
    "import utils\n",
    "from bokeh.plotting import figure, show\n",
    "from bokeh.layouts import gridplot\n",
    "from ipywidgets import interact, interact_manual\n",
    "from bokeh.plotting import figure, output_file, show\n",
    "from bokeh.models.widgets import Panel, Tabs\n",
    "from bokeh.io import output_notebook\n",
    "from bokeh.palettes import Viridis, Category20\n",
    "output_notebook()"
   ]
  },
  {
   "cell_type": "code",
   "execution_count": 55,
   "metadata": {},
   "outputs": [
    {
     "name": "stdout",
     "output_type": "stream",
     "text": [
      "The autoreload extension is already loaded. To reload it, use:\n",
      "  %reload_ext autoreload\n"
     ]
    }
   ],
   "source": [
    "%load_ext autoreload\n",
    "%autoreload 2"
   ]
  },
  {
   "cell_type": "code",
   "execution_count": 56,
   "metadata": {},
   "outputs": [],
   "source": [
    "pd.set_option('display.max_columns', 100)\n",
    "pd.set_option('display.max_rows', 100)"
   ]
  },
  {
   "cell_type": "code",
   "execution_count": null,
   "metadata": {},
   "outputs": [],
   "source": [
    "isrs = clean_data.run()"
   ]
  },
  {
   "cell_type": "code",
   "execution_count": 60,
   "metadata": {},
   "outputs": [
    {
     "name": "stderr",
     "output_type": "stream",
     "text": [
      "C:\\Users\\Krista CHAN!\\Documents\\GitHub\\chicago-isrs\\clean_data.py:50: SettingWithCopyWarning: \n",
      "A value is trying to be set on a copy of a slice from a DataFrame.\n",
      "Try using .loc[row_indexer,col_indexer] = value instead\n",
      "\n",
      "See the caveats in the documentation: http://pandas.pydata.org/pandas-docs/stable/user_guide/indexing.html#returning-a-view-versus-a-copy\n",
      "  pd.to_datetime(isrs_unique['CONTACT_DATE']).dt.to_period('M')\n"
     ]
    },
    {
     "name": "stdout",
     "output_type": "stream",
     "text": [
      "Index(['ACTIONS_INDICATIVE_VIOLENCE_I', 'AGE', 'AGE_TO', 'ALCOHOL_I',\n",
      "       'ALCOHOL_INVENTORY_NO', 'APT_NO', 'AREA', 'BEAT', 'BODY_CAMERA_I',\n",
      "       'BUILD_CODE_CD',\n",
      "       ...\n",
      "       'VERBAL_THREATS_I', 'VIOLENT_CRIME_I', 'V_YEAR', 'WARD',\n",
      "       'WEAPON_OR_CONTRABAND_FOUND_I', 'WEIGHT', 'ZIP_CD', 'year', 'month',\n",
      "       'month_year'],\n",
      "      dtype='object', length=174)\n"
     ]
    }
   ],
   "source": [
    "try:\n",
    "    isrs = pd.read_csv(\"isrs_16-18.csv\")\n",
    "except:\n",
    "    isrs = clean_data.run()"
   ]
  },
  {
   "cell_type": "code",
   "execution_count": 63,
   "metadata": {},
   "outputs": [
    {
     "data": {
      "text/html": [
       "\n",
       "\n",
       "\n",
       "\n",
       "\n",
       "\n",
       "  <div class=\"bk-root\" id=\"2be30689-bd7c-4eac-811b-94caf6cff541\" data-root-id=\"5789\"></div>\n"
      ]
     },
     "metadata": {},
     "output_type": "display_data"
    },
    {
     "data": {
      "application/javascript": [
       "(function(root) {\n",
       "  function embed_document(root) {\n",
       "    \n",
       "  var docs_json = {\"fe197a9e-5351-40ff-bd22-ca811c375c5d\":{\"roots\":{\"references\":[{\"attributes\":{\"below\":[{\"id\":\"5798\",\"type\":\"DatetimeAxis\"}],\"center\":[{\"id\":\"5802\",\"type\":\"Grid\"},{\"id\":\"5807\",\"type\":\"Grid\"},{\"id\":\"5845\",\"type\":\"Legend\"}],\"left\":[{\"id\":\"5803\",\"type\":\"LinearAxis\"}],\"renderers\":[{\"id\":\"5824\",\"type\":\"GlyphRenderer\"}],\"title\":{\"id\":\"5826\",\"type\":\"Title\"},\"toolbar\":{\"id\":\"5814\",\"type\":\"Toolbar\"},\"x_range\":{\"id\":\"5790\",\"type\":\"DataRange1d\"},\"x_scale\":{\"id\":\"5794\",\"type\":\"LinearScale\"},\"y_range\":{\"id\":\"5792\",\"type\":\"DataRange1d\"},\"y_scale\":{\"id\":\"5796\",\"type\":\"LinearScale\"}},\"id\":\"5789\",\"subtype\":\"Figure\",\"type\":\"Plot\"},{\"attributes\":{\"items\":[{\"id\":\"5846\",\"type\":\"LegendItem\"}]},\"id\":\"5845\",\"type\":\"Legend\"},{\"attributes\":{},\"id\":\"5809\",\"type\":\"WheelZoomTool\"},{\"attributes\":{},\"id\":\"5804\",\"type\":\"BasicTicker\"},{\"attributes\":{\"callback\":null},\"id\":\"5792\",\"type\":\"DataRange1d\"},{\"attributes\":{},\"id\":\"5830\",\"type\":\"BasicTickFormatter\"},{\"attributes\":{\"bottom_units\":\"screen\",\"fill_alpha\":{\"value\":0.5},\"fill_color\":{\"value\":\"lightgrey\"},\"left_units\":\"screen\",\"level\":\"overlay\",\"line_alpha\":{\"value\":1.0},\"line_color\":{\"value\":\"black\"},\"line_dash\":[4,4],\"line_width\":{\"value\":2},\"render_mode\":\"css\",\"right_units\":\"screen\",\"top_units\":\"screen\"},\"id\":\"5844\",\"type\":\"BoxAnnotation\"},{\"attributes\":{\"callback\":null,\"data\":{\"x\":{\"__ndarray__\":\"AADAvacfdUIAAAAQoil1QgAAwJb3MnVCAAAA6fE8dUIAAIDVmUZ1QgAAwCeUUHVCAABAFDxadUIAAIBmNmR1QgAAwLgwbnVCAABApdh3dUIAAID30oF1QgAAAOR6i3VCAABANnWVdUIAAICIb591QgAAgKlyqHVCAADA+2yydUIAAEDoFLx1QgAAgDoPxnVCAAAAJ7fPdUIAAEB5sdl1QgAAgMur43VCAAAAuFPtdUIAAEAKTvd1QgAAwPb1AHZCAAAASfAKdkIAAECb6hR2QgAAQLztHXZCAACADugndkIAAAD7jzF2QgAAQE2KO3ZCAADAOTJFdkIAAACMLE92QgAAQN4mWXZCAADAys5idkIAAAAdyWx2QgAAgAlxdnZC\",\"dtype\":\"float64\",\"shape\":[36]},\"y\":[7790,5202,7886,8413,9467,9194,8387,7740,7920,7971,6518,5519,7978,7997,7615,7861,7979,7244,8411,8380,7983,7697,7402,6459,8404,8087,10964,10005,11312,9754,11256,11023,9452,9098,8142,8248]},\"selected\":{\"id\":\"6066\",\"type\":\"Selection\"},\"selection_policy\":{\"id\":\"6065\",\"type\":\"UnionRenderers\"}},\"id\":\"5821\",\"type\":\"ColumnDataSource\"},{\"attributes\":{\"data_source\":{\"id\":\"5821\",\"type\":\"ColumnDataSource\"},\"glyph\":{\"id\":\"5822\",\"type\":\"Line\"},\"hover_glyph\":null,\"muted_glyph\":null,\"nonselection_glyph\":{\"id\":\"5823\",\"type\":\"Line\"},\"selection_glyph\":null,\"view\":{\"id\":\"5825\",\"type\":\"CDSView\"}},\"id\":\"5824\",\"type\":\"GlyphRenderer\"},{\"attributes\":{\"days\":[1,8,15,22]},\"id\":\"5837\",\"type\":\"DaysTicker\"},{\"attributes\":{},\"id\":\"6065\",\"type\":\"UnionRenderers\"},{\"attributes\":{},\"id\":\"5813\",\"type\":\"HelpTool\"},{\"attributes\":{\"months\":[0,1,2,3,4,5,6,7,8,9,10,11]},\"id\":\"5839\",\"type\":\"MonthsTicker\"},{\"attributes\":{\"overlay\":{\"id\":\"5844\",\"type\":\"BoxAnnotation\"}},\"id\":\"5810\",\"type\":\"BoxZoomTool\"},{\"attributes\":{\"months\":[0,6]},\"id\":\"5842\",\"type\":\"MonthsTicker\"},{\"attributes\":{\"days\":[1,15]},\"id\":\"5838\",\"type\":\"DaysTicker\"},{\"attributes\":{},\"id\":\"5811\",\"type\":\"SaveTool\"},{\"attributes\":{},\"id\":\"5794\",\"type\":\"LinearScale\"},{\"attributes\":{\"mantissas\":[1,2,5],\"max_interval\":500.0,\"num_minor_ticks\":0},\"id\":\"5832\",\"type\":\"AdaptiveTicker\"},{\"attributes\":{\"months\":[0,2,4,6,8,10]},\"id\":\"5840\",\"type\":\"MonthsTicker\"},{\"attributes\":{\"ticker\":{\"id\":\"5799\",\"type\":\"DatetimeTicker\"}},\"id\":\"5802\",\"type\":\"Grid\"},{\"attributes\":{\"line_alpha\":0.1,\"line_color\":\"#1f77b4\",\"line_width\":2,\"x\":{\"field\":\"x\"},\"y\":{\"field\":\"y\"}},\"id\":\"5823\",\"type\":\"Line\"},{\"attributes\":{},\"id\":\"5828\",\"type\":\"DatetimeTickFormatter\"},{\"attributes\":{\"formatter\":{\"id\":\"5828\",\"type\":\"DatetimeTickFormatter\"},\"ticker\":{\"id\":\"5799\",\"type\":\"DatetimeTicker\"}},\"id\":\"5798\",\"type\":\"DatetimeAxis\"},{\"attributes\":{\"months\":[0,4,8]},\"id\":\"5841\",\"type\":\"MonthsTicker\"},{\"attributes\":{\"source\":{\"id\":\"5821\",\"type\":\"ColumnDataSource\"}},\"id\":\"5825\",\"type\":\"CDSView\"},{\"attributes\":{},\"id\":\"5808\",\"type\":\"PanTool\"},{\"attributes\":{\"base\":60,\"mantissas\":[1,2,5,10,15,20,30],\"max_interval\":1800000.0,\"min_interval\":1000.0,\"num_minor_ticks\":0},\"id\":\"5833\",\"type\":\"AdaptiveTicker\"},{\"attributes\":{\"callback\":null},\"id\":\"5790\",\"type\":\"DataRange1d\"},{\"attributes\":{\"base\":24,\"mantissas\":[1,2,4,6,8,12],\"max_interval\":43200000.0,\"min_interval\":3600000.0,\"num_minor_ticks\":0},\"id\":\"5834\",\"type\":\"AdaptiveTicker\"},{\"attributes\":{\"line_alpha\":0.8,\"line_color\":\"#1f77b4\",\"line_width\":2,\"x\":{\"field\":\"x\"},\"y\":{\"field\":\"y\"}},\"id\":\"5822\",\"type\":\"Line\"},{\"attributes\":{\"label\":{\"value\":\"ISRs\"},\"renderers\":[{\"id\":\"5824\",\"type\":\"GlyphRenderer\"}]},\"id\":\"5846\",\"type\":\"LegendItem\"},{\"attributes\":{},\"id\":\"5812\",\"type\":\"ResetTool\"},{\"attributes\":{\"days\":[1,2,3,4,5,6,7,8,9,10,11,12,13,14,15,16,17,18,19,20,21,22,23,24,25,26,27,28,29,30,31]},\"id\":\"5835\",\"type\":\"DaysTicker\"},{\"attributes\":{},\"id\":\"5796\",\"type\":\"LinearScale\"},{\"attributes\":{\"dimension\":1,\"ticker\":{\"id\":\"5804\",\"type\":\"BasicTicker\"}},\"id\":\"5807\",\"type\":\"Grid\"},{\"attributes\":{\"active_drag\":\"auto\",\"active_inspect\":\"auto\",\"active_multi\":null,\"active_scroll\":\"auto\",\"active_tap\":\"auto\",\"tools\":[{\"id\":\"5808\",\"type\":\"PanTool\"},{\"id\":\"5809\",\"type\":\"WheelZoomTool\"},{\"id\":\"5810\",\"type\":\"BoxZoomTool\"},{\"id\":\"5811\",\"type\":\"SaveTool\"},{\"id\":\"5812\",\"type\":\"ResetTool\"},{\"id\":\"5813\",\"type\":\"HelpTool\"}]},\"id\":\"5814\",\"type\":\"Toolbar\"},{\"attributes\":{\"num_minor_ticks\":5,\"tickers\":[{\"id\":\"5832\",\"type\":\"AdaptiveTicker\"},{\"id\":\"5833\",\"type\":\"AdaptiveTicker\"},{\"id\":\"5834\",\"type\":\"AdaptiveTicker\"},{\"id\":\"5835\",\"type\":\"DaysTicker\"},{\"id\":\"5836\",\"type\":\"DaysTicker\"},{\"id\":\"5837\",\"type\":\"DaysTicker\"},{\"id\":\"5838\",\"type\":\"DaysTicker\"},{\"id\":\"5839\",\"type\":\"MonthsTicker\"},{\"id\":\"5840\",\"type\":\"MonthsTicker\"},{\"id\":\"5841\",\"type\":\"MonthsTicker\"},{\"id\":\"5842\",\"type\":\"MonthsTicker\"},{\"id\":\"5843\",\"type\":\"YearsTicker\"}]},\"id\":\"5799\",\"type\":\"DatetimeTicker\"},{\"attributes\":{\"days\":[1,4,7,10,13,16,19,22,25,28]},\"id\":\"5836\",\"type\":\"DaysTicker\"},{\"attributes\":{},\"id\":\"5843\",\"type\":\"YearsTicker\"},{\"attributes\":{},\"id\":\"6066\",\"type\":\"Selection\"},{\"attributes\":{\"text\":\"\"},\"id\":\"5826\",\"type\":\"Title\"},{\"attributes\":{\"formatter\":{\"id\":\"5830\",\"type\":\"BasicTickFormatter\"},\"ticker\":{\"id\":\"5804\",\"type\":\"BasicTicker\"}},\"id\":\"5803\",\"type\":\"LinearAxis\"}],\"root_ids\":[\"5789\"]},\"title\":\"Bokeh Application\",\"version\":\"1.4.0\"}};\n",
       "  var render_items = [{\"docid\":\"fe197a9e-5351-40ff-bd22-ca811c375c5d\",\"roots\":{\"5789\":\"2be30689-bd7c-4eac-811b-94caf6cff541\"}}];\n",
       "  root.Bokeh.embed.embed_items_notebook(docs_json, render_items);\n",
       "\n",
       "  }\n",
       "  if (root.Bokeh !== undefined) {\n",
       "    embed_document(root);\n",
       "  } else {\n",
       "    var attempts = 0;\n",
       "    var timer = setInterval(function(root) {\n",
       "      if (root.Bokeh !== undefined) {\n",
       "        clearInterval(timer);\n",
       "        embed_document(root);\n",
       "      } else {\n",
       "        attempts++;\n",
       "        if (attempts > 100) {\n",
       "          clearInterval(timer);\n",
       "          console.log(\"Bokeh: ERROR: Unable to run BokehJS code because BokehJS library is missing\");\n",
       "        }\n",
       "      }\n",
       "    }, 10, root)\n",
       "  }\n",
       "})(window);"
      ],
      "application/vnd.bokehjs_exec.v0+json": ""
     },
     "metadata": {
      "application/vnd.bokehjs_exec.v0+json": {
       "id": "5789"
      }
     },
     "output_type": "display_data"
    }
   ],
   "source": [
    "utils.time_graph(isrs)"
   ]
  },
  {
   "cell_type": "code",
   "execution_count": 64,
   "metadata": {
    "scrolled": true
   },
   "outputs": [
    {
     "data": {
      "text/html": [
       "\n",
       "\n",
       "\n",
       "\n",
       "\n",
       "\n",
       "  <div class=\"bk-root\" id=\"6452fb44-a277-413e-8319-85295c759b50\" data-root-id=\"6194\"></div>\n"
      ]
     },
     "metadata": {},
     "output_type": "display_data"
    },
    {
     "data": {
      "application/javascript": [
       "(function(root) {\n",
       "  function embed_document(root) {\n",
       "    \n",
       "  var docs_json = {\"5dedd144-5634-4c2a-9dc9-7d537645d4f2\":{\"roots\":{\"references\":[{\"attributes\":{\"below\":[{\"id\":\"6203\",\"type\":\"DatetimeAxis\"}],\"center\":[{\"id\":\"6207\",\"type\":\"Grid\"},{\"id\":\"6212\",\"type\":\"Grid\"},{\"id\":\"6250\",\"type\":\"Legend\"}],\"left\":[{\"id\":\"6208\",\"type\":\"LinearAxis\"}],\"renderers\":[{\"id\":\"6229\",\"type\":\"GlyphRenderer\"},{\"id\":\"6255\",\"type\":\"GlyphRenderer\"},{\"id\":\"6282\",\"type\":\"GlyphRenderer\"},{\"id\":\"6311\",\"type\":\"GlyphRenderer\"},{\"id\":\"6342\",\"type\":\"GlyphRenderer\"},{\"id\":\"6375\",\"type\":\"GlyphRenderer\"},{\"id\":\"6410\",\"type\":\"GlyphRenderer\"},{\"id\":\"6447\",\"type\":\"GlyphRenderer\"}],\"title\":{\"id\":\"6231\",\"type\":\"Title\"},\"toolbar\":{\"id\":\"6219\",\"type\":\"Toolbar\"},\"x_range\":{\"id\":\"6195\",\"type\":\"DataRange1d\"},\"x_scale\":{\"id\":\"6199\",\"type\":\"LinearScale\"},\"y_range\":{\"id\":\"6197\",\"type\":\"DataRange1d\"},\"y_scale\":{\"id\":\"6201\",\"type\":\"LinearScale\"}},\"id\":\"6194\",\"subtype\":\"Figure\",\"type\":\"Plot\"},{\"attributes\":{\"formatter\":{\"id\":\"6235\",\"type\":\"BasicTickFormatter\"},\"ticker\":{\"id\":\"6209\",\"type\":\"BasicTicker\"}},\"id\":\"6208\",\"type\":\"LinearAxis\"},{\"attributes\":{\"line_alpha\":0.8,\"line_color\":\"#d62728\",\"line_width\":2,\"x\":{\"field\":\"x\"},\"y\":{\"field\":\"y\"}},\"id\":\"6408\",\"type\":\"Line\"},{\"attributes\":{},\"id\":\"6209\",\"type\":\"BasicTicker\"},{\"attributes\":{},\"id\":\"6441\",\"type\":\"Selection\"},{\"attributes\":{\"formatter\":{\"id\":\"6233\",\"type\":\"DatetimeTickFormatter\"},\"ticker\":{\"id\":\"6204\",\"type\":\"DatetimeTicker\"}},\"id\":\"6203\",\"type\":\"DatetimeAxis\"},{\"attributes\":{},\"id\":\"6305\",\"type\":\"Selection\"},{\"attributes\":{\"label\":{\"value\":\"WHI\"},\"renderers\":[{\"id\":\"6410\",\"type\":\"GlyphRenderer\"}]},\"id\":\"6443\",\"type\":\"LegendItem\"},{\"attributes\":{},\"id\":\"6403\",\"type\":\"UnionRenderers\"},{\"attributes\":{},\"id\":\"6304\",\"type\":\"UnionRenderers\"},{\"attributes\":{\"line_alpha\":0.1,\"line_color\":\"#1f77b4\",\"line_width\":2,\"x\":{\"field\":\"x\"},\"y\":{\"field\":\"y\"}},\"id\":\"6446\",\"type\":\"Line\"},{\"attributes\":{\"num_minor_ticks\":5,\"tickers\":[{\"id\":\"6237\",\"type\":\"AdaptiveTicker\"},{\"id\":\"6238\",\"type\":\"AdaptiveTicker\"},{\"id\":\"6239\",\"type\":\"AdaptiveTicker\"},{\"id\":\"6240\",\"type\":\"DaysTicker\"},{\"id\":\"6241\",\"type\":\"DaysTicker\"},{\"id\":\"6242\",\"type\":\"DaysTicker\"},{\"id\":\"6243\",\"type\":\"DaysTicker\"},{\"id\":\"6244\",\"type\":\"MonthsTicker\"},{\"id\":\"6245\",\"type\":\"MonthsTicker\"},{\"id\":\"6246\",\"type\":\"MonthsTicker\"},{\"id\":\"6247\",\"type\":\"MonthsTicker\"},{\"id\":\"6248\",\"type\":\"YearsTicker\"}]},\"id\":\"6204\",\"type\":\"DatetimeTicker\"},{\"attributes\":{},\"id\":\"6440\",\"type\":\"UnionRenderers\"},{\"attributes\":{\"line_alpha\":0.1,\"line_color\":\"#1f77b4\",\"line_width\":2,\"x\":{\"field\":\"x\"},\"y\":{\"field\":\"y\"}},\"id\":\"6409\",\"type\":\"Line\"},{\"attributes\":{\"label\":{\"value\":\"WHT\"},\"renderers\":[{\"id\":\"6447\",\"type\":\"GlyphRenderer\"}]},\"id\":\"6482\",\"type\":\"LegendItem\"},{\"attributes\":{},\"id\":\"6276\",\"type\":\"Selection\"},{\"attributes\":{\"label\":{\"value\":\"BLK\"},\"renderers\":[{\"id\":\"6255\",\"type\":\"GlyphRenderer\"}]},\"id\":\"6278\",\"type\":\"LegendItem\"},{\"attributes\":{},\"id\":\"6275\",\"type\":\"UnionRenderers\"},{\"attributes\":{\"line_alpha\":0.1,\"line_color\":\"#1f77b4\",\"line_width\":2,\"x\":{\"field\":\"x\"},\"y\":{\"field\":\"y\"}},\"id\":\"6341\",\"type\":\"Line\"},{\"attributes\":{\"source\":{\"id\":\"6407\",\"type\":\"ColumnDataSource\"}},\"id\":\"6411\",\"type\":\"CDSView\"},{\"attributes\":{\"line_alpha\":0.8,\"line_color\":\"#ff9896\",\"line_width\":2,\"x\":{\"field\":\"x\"},\"y\":{\"field\":\"y\"}},\"id\":\"6445\",\"type\":\"Line\"},{\"attributes\":{\"source\":{\"id\":\"6252\",\"type\":\"ColumnDataSource\"}},\"id\":\"6256\",\"type\":\"CDSView\"},{\"attributes\":{},\"id\":\"6404\",\"type\":\"Selection\"},{\"attributes\":{\"data_source\":{\"id\":\"6407\",\"type\":\"ColumnDataSource\"},\"glyph\":{\"id\":\"6408\",\"type\":\"Line\"},\"hover_glyph\":null,\"muted_glyph\":null,\"nonselection_glyph\":{\"id\":\"6409\",\"type\":\"Line\"},\"selection_glyph\":null,\"view\":{\"id\":\"6411\",\"type\":\"CDSView\"}},\"id\":\"6410\",\"type\":\"GlyphRenderer\"},{\"attributes\":{\"callback\":null,\"data\":{\"x\":{\"__ndarray__\":\"AADAvacfdUIAAAAQoil1QgAAwJb3MnVCAAAA6fE8dUIAAIDVmUZ1QgAAwCeUUHVCAABAFDxadUIAAIBmNmR1QgAAwLgwbnVCAABApdh3dUIAAID30oF1QgAAAOR6i3VCAABANnWVdUIAAICIb591QgAAgKlyqHVCAADA+2yydUIAAEDoFLx1QgAAgDoPxnVCAAAAJ7fPdUIAAEB5sdl1QgAAgMur43VCAAAAuFPtdUIAAEAKTvd1QgAAwPb1AHZCAAAASfAKdkIAAECb6hR2QgAAQLztHXZCAACADugndkIAAAD7jzF2QgAAQE2KO3ZCAADAOTJFdkIAAACMLE92QgAAQN4mWXZCAADAys5idkIAAAAdyWx2QgAAgAlxdnZC\",\"dtype\":\"float64\",\"shape\":[36]},\"y\":[732,476,647,656,743,859,831,721,704,761,545,437,702,618,638,560,649,590,700,773,794,627,624,522,678,714,1014,901,1114,930,1138,1035,900,835,695,676]},\"selected\":{\"id\":\"6737\",\"type\":\"Selection\"},\"selection_policy\":{\"id\":\"6736\",\"type\":\"UnionRenderers\"}},\"id\":\"6444\",\"type\":\"ColumnDataSource\"},{\"attributes\":{\"data_source\":{\"id\":\"6444\",\"type\":\"ColumnDataSource\"},\"glyph\":{\"id\":\"6445\",\"type\":\"Line\"},\"hover_glyph\":null,\"muted_glyph\":null,\"nonselection_glyph\":{\"id\":\"6446\",\"type\":\"Line\"},\"selection_glyph\":null,\"view\":{\"id\":\"6448\",\"type\":\"CDSView\"}},\"id\":\"6447\",\"type\":\"GlyphRenderer\"},{\"attributes\":{\"callback\":null,\"data\":{\"x\":{\"__ndarray__\":\"AADAvacfdUIAAAAQoil1QgAAwJb3MnVCAAAA6fE8dUIAAIDVmUZ1QgAAwCeUUHVCAABAFDxadUIAAIBmNmR1QgAAwLgwbnVCAABApdh3dUIAAID30oF1QgAAAOR6i3VCAABANnWVdUIAAICIb591QgAAgKlyqHVCAADA+2yydUIAAIA6D8Z1QgAAACe3z3VCAABAebHZdUIAAIDLq+N1QgAAALhT7XVCAABACk73dUIAAMD29QB2QgAAAEnwCnZCAABAm+oUdkIAAEC87R12QgAAgA7oJ3ZCAAAA+48xdkIAAEBNijt2QgAAwDkyRXZCAAAAjCxPdkIAAEDeJll2QgAAwMrOYnZCAACACXF2dkI=\",\"dtype\":\"float64\",\"shape\":[34]},\"y\":[13,5,8,4,3,1,2,3,7,1,1,4,1,4,7,2,2,8,4,2,2,2,2,2,3,3,5,2,6,2,2,7,3,1]},\"selected\":{\"id\":\"6480\",\"type\":\"Selection\"},\"selection_policy\":{\"id\":\"6479\",\"type\":\"UnionRenderers\"}},\"id\":\"6407\",\"type\":\"ColumnDataSource\"},{\"attributes\":{\"label\":{\"value\":\"I\"},\"renderers\":[{\"id\":\"6282\",\"type\":\"GlyphRenderer\"}]},\"id\":\"6307\",\"type\":\"LegendItem\"},{\"attributes\":{\"overlay\":{\"id\":\"6249\",\"type\":\"BoxAnnotation\"}},\"id\":\"6215\",\"type\":\"BoxZoomTool\"},{\"attributes\":{\"callback\":null,\"data\":{\"x\":{\"__ndarray__\":\"AADAvacfdUIAAAAQoil1QgAAwJb3MnVCAAAA6fE8dUIAAIDVmUZ1QgAAwCeUUHVCAABAFDxadUIAAIBmNmR1QgAAwLgwbnVCAABApdh3dUIAAID30oF1QgAAAOR6i3VCAABANnWVdUIAAICIb591QgAAgKlyqHVCAADA+2yydUIAAEDoFLx1QgAAgDoPxnVCAAAAJ7fPdUIAAEB5sdl1QgAAgMur43VCAAAAuFPtdUIAAEAKTvd1QgAAwPb1AHZCAAAASfAKdkIAAECb6hR2QgAAQLztHXZCAACADugndkIAAAD7jzF2QgAAQE2KO3ZCAADAOTJFdkIAAACMLE92QgAAQN4mWXZCAADAys5idkIAAAAdyWx2QgAAgAlxdnZC\",\"dtype\":\"float64\",\"shape\":[36]},\"y\":[24,17,16,25,14,7,26,18,13,17,9,9,14,10,13,6,7,12,11,15,10,12,6,9,11,11,18,11,16,13,12,17,10,14,12,11]},\"selected\":{\"id\":\"6336\",\"type\":\"Selection\"},\"selection_policy\":{\"id\":\"6335\",\"type\":\"UnionRenderers\"}},\"id\":\"6279\",\"type\":\"ColumnDataSource\"},{\"attributes\":{\"days\":[1,8,15,22]},\"id\":\"6242\",\"type\":\"DaysTicker\"},{\"attributes\":{\"base\":60,\"mantissas\":[1,2,5,10,15,20,30],\"max_interval\":1800000.0,\"min_interval\":1000.0,\"num_minor_ticks\":0},\"id\":\"6238\",\"type\":\"AdaptiveTicker\"},{\"attributes\":{\"line_alpha\":0.8,\"line_color\":\"#ff7f0e\",\"line_width\":2,\"x\":{\"field\":\"x\"},\"y\":{\"field\":\"y\"}},\"id\":\"6280\",\"type\":\"Line\"},{\"attributes\":{},\"id\":\"6214\",\"type\":\"WheelZoomTool\"},{\"attributes\":{\"line_alpha\":0.1,\"line_color\":\"#1f77b4\",\"line_width\":2,\"x\":{\"field\":\"x\"},\"y\":{\"field\":\"y\"}},\"id\":\"6310\",\"type\":\"Line\"},{\"attributes\":{\"callback\":null,\"data\":{\"x\":{\"__ndarray__\":\"AADAvacfdUIAAAAQoil1QgAAwJb3MnVCAAAA6fE8dUIAAIDVmUZ1QgAAwCeUUHVCAABAFDxadUIAAIBmNmR1QgAAwLgwbnVCAABApdh3dUIAAID30oF1QgAAAOR6i3VCAABANnWVdUIAAICIb591QgAAgKlyqHVCAADA+2yydUIAAEDoFLx1QgAAgDoPxnVCAAAAJ7fPdUIAAEB5sdl1QgAAgMur43VCAAAAuFPtdUIAAEAKTvd1QgAAwPb1AHZCAAAASfAKdkIAAECb6hR2QgAAQLztHXZCAACADugndkIAAAD7jzF2QgAAQE2KO3ZCAADAOTJFdkIAAACMLE92QgAAQN4mWXZCAADAys5idkIAAAAdyWx2QgAAgAlxdnZC\",\"dtype\":\"float64\",\"shape\":[36]},\"y\":[10,7,10,10,19,10,15,15,17,11,6,12,15,18,10,8,12,10,11,11,6,8,7,11,9,15,18,11,24,15,19,16,15,13,12,14]},\"selected\":{\"id\":\"6369\",\"type\":\"Selection\"},\"selection_policy\":{\"id\":\"6368\",\"type\":\"UnionRenderers\"}},\"id\":\"6308\",\"type\":\"ColumnDataSource\"},{\"attributes\":{\"callback\":null,\"data\":{\"x\":{\"__ndarray__\":\"AADAvacfdUIAAADp8Tx1QgAAwCeUUHVCAACAZjZkdUIAAID30oF1QgAAAOR6i3VCAABANnWVdUIAAEDoFLx1QgAAgDoPxnVCAABAebHZdUIAAAC4U+11QgAAgA7oJ3ZCAAAA+48xdkIAAEBNijt2QgAAwMrOYnZC\",\"dtype\":\"float64\",\"shape\":[15]},\"y\":[1,1,1,1,1,2,1,1,2,2,2,1,1,1,1]},\"selected\":{\"id\":\"6441\",\"type\":\"Selection\"},\"selection_policy\":{\"id\":\"6440\",\"type\":\"UnionRenderers\"}},\"id\":\"6372\",\"type\":\"ColumnDataSource\"},{\"attributes\":{\"label\":{\"value\":\"API\"},\"renderers\":[{\"id\":\"6229\",\"type\":\"GlyphRenderer\"}]},\"id\":\"6251\",\"type\":\"LegendItem\"},{\"attributes\":{\"text\":\"\"},\"id\":\"6231\",\"type\":\"Title\"},{\"attributes\":{\"line_alpha\":0.8,\"line_color\":\"#98df8a\",\"line_width\":2,\"x\":{\"field\":\"x\"},\"y\":{\"field\":\"y\"}},\"id\":\"6373\",\"type\":\"Line\"},{\"attributes\":{\"source\":{\"id\":\"6444\",\"type\":\"ColumnDataSource\"}},\"id\":\"6448\",\"type\":\"CDSView\"},{\"attributes\":{\"days\":[1,4,7,10,13,16,19,22,25,28]},\"id\":\"6241\",\"type\":\"DaysTicker\"},{\"attributes\":{\"data_source\":{\"id\":\"6339\",\"type\":\"ColumnDataSource\"},\"glyph\":{\"id\":\"6340\",\"type\":\"Line\"},\"hover_glyph\":null,\"muted_glyph\":null,\"nonselection_glyph\":{\"id\":\"6341\",\"type\":\"Line\"},\"selection_glyph\":null,\"view\":{\"id\":\"6343\",\"type\":\"CDSView\"}},\"id\":\"6342\",\"type\":\"GlyphRenderer\"},{\"attributes\":{\"line_alpha\":0.8,\"line_color\":\"#ffbb78\",\"line_width\":2,\"x\":{\"field\":\"x\"},\"y\":{\"field\":\"y\"}},\"id\":\"6309\",\"type\":\"Line\"},{\"attributes\":{\"source\":{\"id\":\"6279\",\"type\":\"ColumnDataSource\"}},\"id\":\"6283\",\"type\":\"CDSView\"},{\"attributes\":{},\"id\":\"6235\",\"type\":\"BasicTickFormatter\"},{\"attributes\":{\"callback\":null},\"id\":\"6195\",\"type\":\"DataRange1d\"},{\"attributes\":{\"base\":24,\"mantissas\":[1,2,4,6,8,12],\"max_interval\":43200000.0,\"min_interval\":3600000.0,\"num_minor_ticks\":0},\"id\":\"6239\",\"type\":\"AdaptiveTicker\"},{\"attributes\":{\"active_drag\":\"auto\",\"active_inspect\":\"auto\",\"active_multi\":null,\"active_scroll\":\"auto\",\"active_tap\":\"auto\",\"tools\":[{\"id\":\"6213\",\"type\":\"PanTool\"},{\"id\":\"6214\",\"type\":\"WheelZoomTool\"},{\"id\":\"6215\",\"type\":\"BoxZoomTool\"},{\"id\":\"6216\",\"type\":\"SaveTool\"},{\"id\":\"6217\",\"type\":\"ResetTool\"},{\"id\":\"6218\",\"type\":\"HelpTool\"}]},\"id\":\"6219\",\"type\":\"Toolbar\"},{\"attributes\":{\"mantissas\":[1,2,5],\"max_interval\":500.0,\"num_minor_ticks\":0},\"id\":\"6237\",\"type\":\"AdaptiveTicker\"},{\"attributes\":{},\"id\":\"6480\",\"type\":\"Selection\"},{\"attributes\":{},\"id\":\"6218\",\"type\":\"HelpTool\"},{\"attributes\":{\"months\":[0,1,2,3,4,5,6,7,8,9,10,11]},\"id\":\"6244\",\"type\":\"MonthsTicker\"},{\"attributes\":{\"bottom_units\":\"screen\",\"fill_alpha\":{\"value\":0.5},\"fill_color\":{\"value\":\"lightgrey\"},\"left_units\":\"screen\",\"level\":\"overlay\",\"line_alpha\":{\"value\":1.0},\"line_color\":{\"value\":\"black\"},\"line_dash\":[4,4],\"line_width\":{\"value\":2},\"render_mode\":\"css\",\"right_units\":\"screen\",\"top_units\":\"screen\"},\"id\":\"6249\",\"type\":\"BoxAnnotation\"},{\"attributes\":{},\"id\":\"6248\",\"type\":\"YearsTicker\"},{\"attributes\":{},\"id\":\"6216\",\"type\":\"SaveTool\"},{\"attributes\":{},\"id\":\"6233\",\"type\":\"DatetimeTickFormatter\"},{\"attributes\":{\"data_source\":{\"id\":\"6279\",\"type\":\"ColumnDataSource\"},\"glyph\":{\"id\":\"6280\",\"type\":\"Line\"},\"hover_glyph\":null,\"muted_glyph\":null,\"nonselection_glyph\":{\"id\":\"6281\",\"type\":\"Line\"},\"selection_glyph\":null,\"view\":{\"id\":\"6283\",\"type\":\"CDSView\"}},\"id\":\"6282\",\"type\":\"GlyphRenderer\"},{\"attributes\":{\"callback\":null,\"data\":{\"x\":{\"__ndarray__\":\"AADAvacfdUIAAAAQoil1QgAAwJb3MnVCAAAA6fE8dUIAAIDVmUZ1QgAAwCeUUHVCAABAFDxadUIAAIBmNmR1QgAAwLgwbnVCAABApdh3dUIAAID30oF1QgAAAOR6i3VCAABANnWVdUIAAICIb591QgAAgKlyqHVCAADA+2yydUIAAEDoFLx1QgAAgDoPxnVCAAAAJ7fPdUIAAEB5sdl1QgAAgMur43VCAAAAuFPtdUIAAEAKTvd1QgAAwPb1AHZCAAAASfAKdkIAAECb6hR2QgAAQLztHXZCAACADugndkIAAAD7jzF2QgAAQE2KO3ZCAADAOTJFdkIAAACMLE92QgAAQN4mWXZCAADAys5idkIAAAAdyWx2QgAAgAlxdnZC\",\"dtype\":\"float64\",\"shape\":[36]},\"y\":[77,51,76,52,63,66,66,56,59,71,60,46,49,60,51,50,68,53,64,59,62,62,56,53,65,47,83,68,105,92,120,94,62,67,37,74]},\"selected\":{\"id\":\"6276\",\"type\":\"Selection\"},\"selection_policy\":{\"id\":\"6275\",\"type\":\"UnionRenderers\"}},\"id\":\"6226\",\"type\":\"ColumnDataSource\"},{\"attributes\":{\"dimension\":1,\"ticker\":{\"id\":\"6209\",\"type\":\"BasicTicker\"}},\"id\":\"6212\",\"type\":\"Grid\"},{\"attributes\":{\"callback\":null,\"data\":{\"x\":{\"__ndarray__\":\"AAAAEKIpdUIAAIBmNmR1QgAAQJvqFHZC\",\"dtype\":\"float64\",\"shape\":[3]},\"y\":[1,1,1]},\"selected\":{\"id\":\"6404\",\"type\":\"Selection\"},\"selection_policy\":{\"id\":\"6403\",\"type\":\"UnionRenderers\"}},\"id\":\"6339\",\"type\":\"ColumnDataSource\"},{\"attributes\":{\"source\":{\"id\":\"6308\",\"type\":\"ColumnDataSource\"}},\"id\":\"6312\",\"type\":\"CDSView\"},{\"attributes\":{\"days\":[1,2,3,4,5,6,7,8,9,10,11,12,13,14,15,16,17,18,19,20,21,22,23,24,25,26,27,28,29,30,31]},\"id\":\"6240\",\"type\":\"DaysTicker\"},{\"attributes\":{},\"id\":\"6369\",\"type\":\"Selection\"},{\"attributes\":{},\"id\":\"6201\",\"type\":\"LinearScale\"},{\"attributes\":{\"callback\":null},\"id\":\"6197\",\"type\":\"DataRange1d\"},{\"attributes\":{\"source\":{\"id\":\"6226\",\"type\":\"ColumnDataSource\"}},\"id\":\"6230\",\"type\":\"CDSView\"},{\"attributes\":{\"label\":{\"value\":\"P\"},\"renderers\":[{\"id\":\"6311\",\"type\":\"GlyphRenderer\"}]},\"id\":\"6338\",\"type\":\"LegendItem\"},{\"attributes\":{},\"id\":\"6479\",\"type\":\"UnionRenderers\"},{\"attributes\":{\"months\":[0,4,8]},\"id\":\"6246\",\"type\":\"MonthsTicker\"},{\"attributes\":{\"line_alpha\":0.8,\"line_color\":\"#2ca02c\",\"line_width\":2,\"x\":{\"field\":\"x\"},\"y\":{\"field\":\"y\"}},\"id\":\"6340\",\"type\":\"Line\"},{\"attributes\":{\"months\":[0,6]},\"id\":\"6247\",\"type\":\"MonthsTicker\"},{\"attributes\":{\"data_source\":{\"id\":\"6252\",\"type\":\"ColumnDataSource\"},\"glyph\":{\"id\":\"6253\",\"type\":\"Line\"},\"hover_glyph\":null,\"muted_glyph\":null,\"nonselection_glyph\":{\"id\":\"6254\",\"type\":\"Line\"},\"selection_glyph\":null,\"view\":{\"id\":\"6256\",\"type\":\"CDSView\"}},\"id\":\"6255\",\"type\":\"GlyphRenderer\"},{\"attributes\":{\"days\":[1,15]},\"id\":\"6243\",\"type\":\"DaysTicker\"},{\"attributes\":{\"callback\":null,\"data\":{\"x\":{\"__ndarray__\":\"AADAvacfdUIAAAAQoil1QgAAwJb3MnVCAAAA6fE8dUIAAIDVmUZ1QgAAwCeUUHVCAABAFDxadUIAAIBmNmR1QgAAwLgwbnVCAABApdh3dUIAAID30oF1QgAAAOR6i3VCAABANnWVdUIAAICIb591QgAAgKlyqHVCAADA+2yydUIAAEDoFLx1QgAAgDoPxnVCAAAAJ7fPdUIAAEB5sdl1QgAAgMur43VCAAAAuFPtdUIAAEAKTvd1QgAAwPb1AHZCAAAASfAKdkIAAECb6hR2QgAAQLztHXZCAACADugndkIAAAD7jzF2QgAAQE2KO3ZCAADAOTJFdkIAAACMLE92QgAAQN4mWXZCAADAys5idkIAAAAdyWx2QgAAgAlxdnZC\",\"dtype\":\"float64\",\"shape\":[36]},\"y\":[5583,3580,5396,6203,6962,6473,5884,5580,5698,5502,4776,4120,5688,5770,5573,5871,5661,5264,6186,6047,5565,5634,5511,4697,6112,5737,7721,7022,7818,6748,7523,7604,6563,6412,5702,5808]},\"selected\":{\"id\":\"6305\",\"type\":\"Selection\"},\"selection_policy\":{\"id\":\"6304\",\"type\":\"UnionRenderers\"}},\"id\":\"6252\",\"type\":\"ColumnDataSource\"},{\"attributes\":{\"source\":{\"id\":\"6339\",\"type\":\"ColumnDataSource\"}},\"id\":\"6343\",\"type\":\"CDSView\"},{\"attributes\":{\"line_alpha\":0.8,\"line_color\":\"#1f77b4\",\"line_width\":2,\"x\":{\"field\":\"x\"},\"y\":{\"field\":\"y\"}},\"id\":\"6227\",\"type\":\"Line\"},{\"attributes\":{\"line_alpha\":0.1,\"line_color\":\"#1f77b4\",\"line_width\":2,\"x\":{\"field\":\"x\"},\"y\":{\"field\":\"y\"}},\"id\":\"6254\",\"type\":\"Line\"},{\"attributes\":{\"line_alpha\":0.1,\"line_color\":\"#1f77b4\",\"line_width\":2,\"x\":{\"field\":\"x\"},\"y\":{\"field\":\"y\"}},\"id\":\"6281\",\"type\":\"Line\"},{\"attributes\":{},\"id\":\"6368\",\"type\":\"UnionRenderers\"},{\"attributes\":{\"data_source\":{\"id\":\"6226\",\"type\":\"ColumnDataSource\"},\"glyph\":{\"id\":\"6227\",\"type\":\"Line\"},\"hover_glyph\":null,\"muted_glyph\":null,\"nonselection_glyph\":{\"id\":\"6228\",\"type\":\"Line\"},\"selection_glyph\":null,\"view\":{\"id\":\"6230\",\"type\":\"CDSView\"}},\"id\":\"6229\",\"type\":\"GlyphRenderer\"},{\"attributes\":{\"items\":[{\"id\":\"6251\",\"type\":\"LegendItem\"},{\"id\":\"6278\",\"type\":\"LegendItem\"},{\"id\":\"6307\",\"type\":\"LegendItem\"},{\"id\":\"6338\",\"type\":\"LegendItem\"},{\"id\":\"6371\",\"type\":\"LegendItem\"},{\"id\":\"6406\",\"type\":\"LegendItem\"},{\"id\":\"6443\",\"type\":\"LegendItem\"},{\"id\":\"6482\",\"type\":\"LegendItem\"}]},\"id\":\"6250\",\"type\":\"Legend\"},{\"attributes\":{\"line_alpha\":0.8,\"line_color\":\"#aec7e8\",\"line_width\":2,\"x\":{\"field\":\"x\"},\"y\":{\"field\":\"y\"}},\"id\":\"6253\",\"type\":\"Line\"},{\"attributes\":{},\"id\":\"6336\",\"type\":\"Selection\"},{\"attributes\":{},\"id\":\"6737\",\"type\":\"Selection\"},{\"attributes\":{\"months\":[0,2,4,6,8,10]},\"id\":\"6245\",\"type\":\"MonthsTicker\"},{\"attributes\":{\"data_source\":{\"id\":\"6372\",\"type\":\"ColumnDataSource\"},\"glyph\":{\"id\":\"6373\",\"type\":\"Line\"},\"hover_glyph\":null,\"muted_glyph\":null,\"nonselection_glyph\":{\"id\":\"6374\",\"type\":\"Line\"},\"selection_glyph\":null,\"view\":{\"id\":\"6376\",\"type\":\"CDSView\"}},\"id\":\"6375\",\"type\":\"GlyphRenderer\"},{\"attributes\":{\"data_source\":{\"id\":\"6308\",\"type\":\"ColumnDataSource\"},\"glyph\":{\"id\":\"6309\",\"type\":\"Line\"},\"hover_glyph\":null,\"muted_glyph\":null,\"nonselection_glyph\":{\"id\":\"6310\",\"type\":\"Line\"},\"selection_glyph\":null,\"view\":{\"id\":\"6312\",\"type\":\"CDSView\"}},\"id\":\"6311\",\"type\":\"GlyphRenderer\"},{\"attributes\":{\"ticker\":{\"id\":\"6204\",\"type\":\"DatetimeTicker\"}},\"id\":\"6207\",\"type\":\"Grid\"},{\"attributes\":{},\"id\":\"6199\",\"type\":\"LinearScale\"},{\"attributes\":{},\"id\":\"6213\",\"type\":\"PanTool\"},{\"attributes\":{\"label\":{\"value\":\"U\"},\"renderers\":[{\"id\":\"6342\",\"type\":\"GlyphRenderer\"}]},\"id\":\"6371\",\"type\":\"LegendItem\"},{\"attributes\":{\"line_alpha\":0.1,\"line_color\":\"#1f77b4\",\"line_width\":2,\"x\":{\"field\":\"x\"},\"y\":{\"field\":\"y\"}},\"id\":\"6374\",\"type\":\"Line\"},{\"attributes\":{\"source\":{\"id\":\"6372\",\"type\":\"ColumnDataSource\"}},\"id\":\"6376\",\"type\":\"CDSView\"},{\"attributes\":{\"line_alpha\":0.1,\"line_color\":\"#1f77b4\",\"line_width\":2,\"x\":{\"field\":\"x\"},\"y\":{\"field\":\"y\"}},\"id\":\"6228\",\"type\":\"Line\"},{\"attributes\":{},\"id\":\"6736\",\"type\":\"UnionRenderers\"},{\"attributes\":{},\"id\":\"6335\",\"type\":\"UnionRenderers\"},{\"attributes\":{},\"id\":\"6217\",\"type\":\"ResetTool\"},{\"attributes\":{\"label\":{\"value\":\"WBH\"},\"renderers\":[{\"id\":\"6375\",\"type\":\"GlyphRenderer\"}]},\"id\":\"6406\",\"type\":\"LegendItem\"}],\"root_ids\":[\"6194\"]},\"title\":\"Bokeh Application\",\"version\":\"1.4.0\"}};\n",
       "  var render_items = [{\"docid\":\"5dedd144-5634-4c2a-9dc9-7d537645d4f2\",\"roots\":{\"6194\":\"6452fb44-a277-413e-8319-85295c759b50\"}}];\n",
       "  root.Bokeh.embed.embed_items_notebook(docs_json, render_items);\n",
       "\n",
       "  }\n",
       "  if (root.Bokeh !== undefined) {\n",
       "    embed_document(root);\n",
       "  } else {\n",
       "    var attempts = 0;\n",
       "    var timer = setInterval(function(root) {\n",
       "      if (root.Bokeh !== undefined) {\n",
       "        clearInterval(timer);\n",
       "        embed_document(root);\n",
       "      } else {\n",
       "        attempts++;\n",
       "        if (attempts > 100) {\n",
       "          clearInterval(timer);\n",
       "          console.log(\"Bokeh: ERROR: Unable to run BokehJS code because BokehJS library is missing\");\n",
       "        }\n",
       "      }\n",
       "    }, 10, root)\n",
       "  }\n",
       "})(window);"
      ],
      "application/vnd.bokehjs_exec.v0+json": ""
     },
     "metadata": {
      "application/vnd.bokehjs_exec.v0+json": {
       "id": "6194"
      }
     },
     "output_type": "display_data"
    }
   ],
   "source": [
    "#Stops of black subjects increasing rapidly\n",
    "utils.time_graph(isrs, column='RACE_CODE_CD')"
   ]
  },
  {
   "cell_type": "code",
   "execution_count": 65,
   "metadata": {},
   "outputs": [
    {
     "data": {
      "text/html": [
       "\n",
       "\n",
       "\n",
       "\n",
       "\n",
       "\n",
       "  <div class=\"bk-root\" id=\"64bf311b-a51b-4e52-b2d8-38053afe8dce\" data-root-id=\"6949\"></div>\n"
      ]
     },
     "metadata": {},
     "output_type": "display_data"
    },
    {
     "data": {
      "application/javascript": [
       "(function(root) {\n",
       "  function embed_document(root) {\n",
       "    \n",
       "  var docs_json = {\"e77e240a-562a-4430-930d-dda178b4b8fa\":{\"roots\":{\"references\":[{\"attributes\":{\"below\":[{\"id\":\"6958\",\"type\":\"DatetimeAxis\"}],\"center\":[{\"id\":\"6962\",\"type\":\"Grid\"},{\"id\":\"6967\",\"type\":\"Grid\"},{\"id\":\"7005\",\"type\":\"Legend\"}],\"left\":[{\"id\":\"6963\",\"type\":\"LinearAxis\"}],\"renderers\":[{\"id\":\"6984\",\"type\":\"GlyphRenderer\"},{\"id\":\"7010\",\"type\":\"GlyphRenderer\"},{\"id\":\"7037\",\"type\":\"GlyphRenderer\"},{\"id\":\"7066\",\"type\":\"GlyphRenderer\"},{\"id\":\"7097\",\"type\":\"GlyphRenderer\"},{\"id\":\"7130\",\"type\":\"GlyphRenderer\"},{\"id\":\"7165\",\"type\":\"GlyphRenderer\"},{\"id\":\"7202\",\"type\":\"GlyphRenderer\"}],\"title\":{\"id\":\"6986\",\"type\":\"Title\"},\"toolbar\":{\"id\":\"6974\",\"type\":\"Toolbar\"},\"x_range\":{\"id\":\"6950\",\"type\":\"DataRange1d\"},\"x_scale\":{\"id\":\"6954\",\"type\":\"LinearScale\"},\"y_range\":{\"id\":\"6952\",\"type\":\"DataRange1d\"},\"y_scale\":{\"id\":\"6956\",\"type\":\"LinearScale\"}},\"id\":\"6949\",\"subtype\":\"Figure\",\"type\":\"Plot\"},{\"attributes\":{\"line_alpha\":0.8,\"line_color\":\"#2ca02c\",\"line_width\":2,\"x\":{\"field\":\"x\"},\"y\":{\"field\":\"y\"}},\"id\":\"7095\",\"type\":\"Line\"},{\"attributes\":{},\"id\":\"7196\",\"type\":\"Selection\"},{\"attributes\":{},\"id\":\"6969\",\"type\":\"WheelZoomTool\"},{\"attributes\":{\"line_alpha\":0.1,\"line_color\":\"#1f77b4\",\"line_width\":2,\"x\":{\"field\":\"x\"},\"y\":{\"field\":\"y\"}},\"id\":\"7096\",\"type\":\"Line\"},{\"attributes\":{\"line_alpha\":0.8,\"line_color\":\"#ff7f0e\",\"line_width\":2,\"x\":{\"field\":\"x\"},\"y\":{\"field\":\"y\"}},\"id\":\"7035\",\"type\":\"Line\"},{\"attributes\":{\"callback\":null,\"data\":{\"x\":{\"__ndarray__\":\"AADAvacfdUIAAAAQoil1QgAAwJb3MnVCAAAA6fE8dUIAAIDVmUZ1QgAAwCeUUHVCAABAFDxadUIAAIBmNmR1QgAAwLgwbnVCAABApdh3dUIAAID30oF1QgAAAOR6i3VCAABANnWVdUIAAICIb591QgAAgKlyqHVCAADA+2yydUIAAEDoFLx1QgAAgDoPxnVCAAAAJ7fPdUIAAEB5sdl1QgAAgMur43VCAAAAuFPtdUIAAEAKTvd1QgAAwPb1AHZCAAAASfAKdkIAAECb6hR2QgAAQLztHXZCAACADugndkIAAAD7jzF2QgAAQE2KO3ZCAADAOTJFdkIAAACMLE92QgAAQN4mWXZCAADAys5idkIAAAAdyWx2QgAAgAlxdnZC\",\"dtype\":\"float64\",\"shape\":[36]},\"y\":[181,103,241,391,474,407,431,400,489,356,261,186,324,352,333,436,386,387,368,276,305,329,419,320,349,438,526,522,539,475,566,593,462,630,481,410]},\"selected\":{\"id\":\"7159\",\"type\":\"Selection\"},\"selection_policy\":{\"id\":\"7158\",\"type\":\"UnionRenderers\"}},\"id\":\"7094\",\"type\":\"ColumnDataSource\"},{\"attributes\":{\"line_alpha\":0.8,\"line_color\":\"#1f77b4\",\"line_width\":2,\"x\":{\"field\":\"x\"},\"y\":{\"field\":\"y\"}},\"id\":\"6982\",\"type\":\"Line\"},{\"attributes\":{\"source\":{\"id\":\"7063\",\"type\":\"ColumnDataSource\"}},\"id\":\"7067\",\"type\":\"CDSView\"},{\"attributes\":{\"data_source\":{\"id\":\"7094\",\"type\":\"ColumnDataSource\"},\"glyph\":{\"id\":\"7095\",\"type\":\"Line\"},\"hover_glyph\":null,\"muted_glyph\":null,\"nonselection_glyph\":{\"id\":\"7096\",\"type\":\"Line\"},\"selection_glyph\":null,\"view\":{\"id\":\"7098\",\"type\":\"CDSView\"}},\"id\":\"7097\",\"type\":\"GlyphRenderer\"},{\"attributes\":{\"line_alpha\":0.1,\"line_color\":\"#1f77b4\",\"line_width\":2,\"x\":{\"field\":\"x\"},\"y\":{\"field\":\"y\"}},\"id\":\"7009\",\"type\":\"Line\"},{\"attributes\":{},\"id\":\"6956\",\"type\":\"LinearScale\"},{\"attributes\":{\"data_source\":{\"id\":\"7034\",\"type\":\"ColumnDataSource\"},\"glyph\":{\"id\":\"7035\",\"type\":\"Line\"},\"hover_glyph\":null,\"muted_glyph\":null,\"nonselection_glyph\":{\"id\":\"7036\",\"type\":\"Line\"},\"selection_glyph\":null,\"view\":{\"id\":\"7038\",\"type\":\"CDSView\"}},\"id\":\"7037\",\"type\":\"GlyphRenderer\"},{\"attributes\":{\"callback\":null,\"data\":{\"x\":{\"__ndarray__\":\"AADAvacfdUIAAAAQoil1QgAAwJb3MnVCAAAA6fE8dUIAAIDVmUZ1QgAAwCeUUHVCAABAFDxadUIAAIBmNmR1QgAAwLgwbnVCAABApdh3dUIAAID30oF1QgAAAOR6i3VCAABANnWVdUIAAICIb591QgAAgKlyqHVCAADA+2yydUIAAEDoFLx1QgAAgDoPxnVCAAAAJ7fPdUIAAEB5sdl1QgAAgMur43VCAAAAuFPtdUIAAEAKTvd1QgAAwPb1AHZCAAAASfAKdkIAAECb6hR2QgAAQLztHXZCAACADugndkIAAAD7jzF2QgAAQE2KO3ZCAADAOTJFdkIAAACMLE92QgAAQN4mWXZCAADAys5idkIAAAAdyWx2QgAAgAlxdnZC\",\"dtype\":\"float64\",\"shape\":[36]},\"y\":[152,80,153,148,146,133,114,112,115,100,59,70,78,108,138,162,209,151,176,198,126,119,147,109,167,150,440,571,601,439,526,354,351,325,261,298]},\"selected\":{\"id\":\"7031\",\"type\":\"Selection\"},\"selection_policy\":{\"id\":\"7030\",\"type\":\"UnionRenderers\"}},\"id\":\"6981\",\"type\":\"ColumnDataSource\"},{\"attributes\":{\"items\":[{\"id\":\"7006\",\"type\":\"LegendItem\"},{\"id\":\"7033\",\"type\":\"LegendItem\"},{\"id\":\"7062\",\"type\":\"LegendItem\"},{\"id\":\"7093\",\"type\":\"LegendItem\"},{\"id\":\"7126\",\"type\":\"LegendItem\"},{\"id\":\"7161\",\"type\":\"LegendItem\"},{\"id\":\"7198\",\"type\":\"LegendItem\"},{\"id\":\"7237\",\"type\":\"LegendItem\"}]},\"id\":\"7005\",\"type\":\"Legend\"},{\"attributes\":{},\"id\":\"6968\",\"type\":\"PanTool\"},{\"attributes\":{\"callback\":null,\"data\":{\"x\":{\"__ndarray__\":\"AADAvacfdUIAAAAQoil1QgAAwJb3MnVCAAAA6fE8dUIAAIDVmUZ1QgAAwCeUUHVCAABAFDxadUIAAIBmNmR1QgAAwLgwbnVCAABApdh3dUIAAID30oF1QgAAAOR6i3VCAABANnWVdUIAAICIb591QgAAgKlyqHVCAADA+2yydUIAAEDoFLx1QgAAgDoPxnVCAAAAJ7fPdUIAAEB5sdl1QgAAgMur43VCAAAAuFPtdUIAAEAKTvd1QgAAwPb1AHZCAAAASfAKdkIAAECb6hR2QgAAQLztHXZCAACADugndkIAAAD7jzF2QgAAQE2KO3ZCAADAOTJFdkIAAACMLE92QgAAQN4mWXZCAADAys5idkIAAAAdyWx2QgAAgAlxdnZC\",\"dtype\":\"float64\",\"shape\":[36]},\"y\":[448,217,422,392,624,629,292,254,280,185,150,127,216,238,330,573,302,354,333,412,301,324,289,294,419,303,466,381,442,375,353,352,321,243,198,240]},\"selected\":{\"id\":\"7091\",\"type\":\"Selection\"},\"selection_policy\":{\"id\":\"7090\",\"type\":\"UnionRenderers\"}},\"id\":\"7034\",\"type\":\"ColumnDataSource\"},{\"attributes\":{\"callback\":null,\"data\":{\"x\":{\"__ndarray__\":\"AADAvacfdUIAAAAQoil1QgAAwJb3MnVCAAAA6fE8dUIAAIDVmUZ1QgAAwCeUUHVCAABAFDxadUIAAIBmNmR1QgAAwLgwbnVCAABApdh3dUIAAID30oF1QgAAAOR6i3VCAABANnWVdUIAAICIb591QgAAgKlyqHVCAADA+2yydUIAAEDoFLx1QgAAgDoPxnVCAAAAJ7fPdUIAAEB5sdl1QgAAgMur43VCAAAAuFPtdUIAAEAKTvd1QgAAwPb1AHZCAAAASfAKdkIAAECb6hR2QgAAQLztHXZCAACADugndkIAAAD7jzF2QgAAQE2KO3ZCAADAOTJFdkIAAACMLE92QgAAQN4mWXZCAADAys5idkIAAAAdyWx2QgAAgAlxdnZC\",\"dtype\":\"float64\",\"shape\":[36]},\"y\":[558,399,540,522,588,545,511,346,428,473,430,352,485,482,596,714,713,641,794,878,805,714,744,723,838,686,881,839,911,745,784,850,825,737,670,640]},\"selected\":{\"id\":\"7124\",\"type\":\"Selection\"},\"selection_policy\":{\"id\":\"7123\",\"type\":\"UnionRenderers\"}},\"id\":\"7063\",\"type\":\"ColumnDataSource\"},{\"attributes\":{\"source\":{\"id\":\"7094\",\"type\":\"ColumnDataSource\"}},\"id\":\"7098\",\"type\":\"CDSView\"},{\"attributes\":{\"label\":{\"value\":\"1.0\"},\"renderers\":[{\"id\":\"6984\",\"type\":\"GlyphRenderer\"}]},\"id\":\"7006\",\"type\":\"LegendItem\"},{\"attributes\":{\"line_alpha\":0.1,\"line_color\":\"#1f77b4\",\"line_width\":2,\"x\":{\"field\":\"x\"},\"y\":{\"field\":\"y\"}},\"id\":\"7036\",\"type\":\"Line\"},{\"attributes\":{},\"id\":\"7060\",\"type\":\"Selection\"},{\"attributes\":{},\"id\":\"7124\",\"type\":\"Selection\"},{\"attributes\":{},\"id\":\"7123\",\"type\":\"UnionRenderers\"},{\"attributes\":{\"ticker\":{\"id\":\"6959\",\"type\":\"DatetimeTicker\"}},\"id\":\"6962\",\"type\":\"Grid\"},{\"attributes\":{\"formatter\":{\"id\":\"6990\",\"type\":\"BasicTickFormatter\"},\"ticker\":{\"id\":\"6964\",\"type\":\"BasicTicker\"}},\"id\":\"6963\",\"type\":\"LinearAxis\"},{\"attributes\":{\"source\":{\"id\":\"7034\",\"type\":\"ColumnDataSource\"}},\"id\":\"7038\",\"type\":\"CDSView\"},{\"attributes\":{\"source\":{\"id\":\"7162\",\"type\":\"ColumnDataSource\"}},\"id\":\"7166\",\"type\":\"CDSView\"},{\"attributes\":{\"line_alpha\":0.1,\"line_color\":\"#1f77b4\",\"line_width\":2,\"x\":{\"field\":\"x\"},\"y\":{\"field\":\"y\"}},\"id\":\"6983\",\"type\":\"Line\"},{\"attributes\":{},\"id\":\"6964\",\"type\":\"BasicTicker\"},{\"attributes\":{\"dimension\":1,\"ticker\":{\"id\":\"6964\",\"type\":\"BasicTicker\"}},\"id\":\"6967\",\"type\":\"Grid\"},{\"attributes\":{\"line_alpha\":0.8,\"line_color\":\"#aec7e8\",\"line_width\":2,\"x\":{\"field\":\"x\"},\"y\":{\"field\":\"y\"}},\"id\":\"7008\",\"type\":\"Line\"},{\"attributes\":{\"data_source\":{\"id\":\"7063\",\"type\":\"ColumnDataSource\"},\"glyph\":{\"id\":\"7064\",\"type\":\"Line\"},\"hover_glyph\":null,\"muted_glyph\":null,\"nonselection_glyph\":{\"id\":\"7065\",\"type\":\"Line\"},\"selection_glyph\":null,\"view\":{\"id\":\"7067\",\"type\":\"CDSView\"}},\"id\":\"7066\",\"type\":\"GlyphRenderer\"},{\"attributes\":{\"line_alpha\":0.8,\"line_color\":\"#98df8a\",\"line_width\":2,\"x\":{\"field\":\"x\"},\"y\":{\"field\":\"y\"}},\"id\":\"7128\",\"type\":\"Line\"},{\"attributes\":{\"num_minor_ticks\":5,\"tickers\":[{\"id\":\"6992\",\"type\":\"AdaptiveTicker\"},{\"id\":\"6993\",\"type\":\"AdaptiveTicker\"},{\"id\":\"6994\",\"type\":\"AdaptiveTicker\"},{\"id\":\"6995\",\"type\":\"DaysTicker\"},{\"id\":\"6996\",\"type\":\"DaysTicker\"},{\"id\":\"6997\",\"type\":\"DaysTicker\"},{\"id\":\"6998\",\"type\":\"DaysTicker\"},{\"id\":\"6999\",\"type\":\"MonthsTicker\"},{\"id\":\"7000\",\"type\":\"MonthsTicker\"},{\"id\":\"7001\",\"type\":\"MonthsTicker\"},{\"id\":\"7002\",\"type\":\"MonthsTicker\"},{\"id\":\"7003\",\"type\":\"YearsTicker\"}]},\"id\":\"6959\",\"type\":\"DatetimeTicker\"},{\"attributes\":{\"callback\":null,\"data\":{\"x\":{\"__ndarray__\":\"AADAvacfdUIAAAAQoil1QgAAwJb3MnVCAAAA6fE8dUIAAIDVmUZ1QgAAwCeUUHVCAABAFDxadUIAAIBmNmR1QgAAwLgwbnVCAABApdh3dUIAAID30oF1QgAAAOR6i3VCAABANnWVdUIAAICIb591QgAAgKlyqHVCAADA+2yydUIAAEDoFLx1QgAAgDoPxnVCAAAAJ7fPdUIAAEB5sdl1QgAAgMur43VCAAAAuFPtdUIAAEAKTvd1QgAAwPb1AHZCAAAASfAKdkIAAECb6hR2QgAAQLztHXZCAACADugndkIAAAD7jzF2QgAAQE2KO3ZCAADAOTJFdkIAAACMLE92QgAAQN4mWXZCAADAys5idkIAAAAdyWx2QgAAgAlxdnZC\",\"dtype\":\"float64\",\"shape\":[36]},\"y\":[477,208,321,404,452,374,207,249,307,292,353,281,556,516,504,529,502,589,539,625,593,565,524,385,614,603,754,633,594,540,563,723,535,611,547,435]},\"selected\":{\"id\":\"7196\",\"type\":\"Selection\"},\"selection_policy\":{\"id\":\"7195\",\"type\":\"UnionRenderers\"}},\"id\":\"7127\",\"type\":\"ColumnDataSource\"},{\"attributes\":{\"label\":{\"value\":\"6.0\"},\"renderers\":[{\"id\":\"7130\",\"type\":\"GlyphRenderer\"}]},\"id\":\"7161\",\"type\":\"LegendItem\"},{\"attributes\":{\"months\":[0,2,4,6,8,10]},\"id\":\"7000\",\"type\":\"MonthsTicker\"},{\"attributes\":{},\"id\":\"6954\",\"type\":\"LinearScale\"},{\"attributes\":{},\"id\":\"7059\",\"type\":\"UnionRenderers\"},{\"attributes\":{},\"id\":\"7159\",\"type\":\"Selection\"},{\"attributes\":{\"source\":{\"id\":\"7127\",\"type\":\"ColumnDataSource\"}},\"id\":\"7131\",\"type\":\"CDSView\"},{\"attributes\":{\"callback\":null},\"id\":\"6952\",\"type\":\"DataRange1d\"},{\"attributes\":{\"callback\":null,\"data\":{\"x\":{\"__ndarray__\":\"AADAvacfdUIAAAAQoil1QgAAwJb3MnVCAAAA6fE8dUIAAIDVmUZ1QgAAwCeUUHVCAABAFDxadUIAAIBmNmR1QgAAwLgwbnVCAABApdh3dUIAAID30oF1QgAAAOR6i3VCAABANnWVdUIAAICIb591QgAAgKlyqHVCAADA+2yydUIAAEDoFLx1QgAAgDoPxnVCAAAAJ7fPdUIAAEB5sdl1QgAAgMur43VCAAAAuFPtdUIAAEAKTvd1QgAAwPb1AHZCAAAASfAKdkIAAECb6hR2QgAAQLztHXZCAACADugndkIAAAD7jzF2QgAAQE2KO3ZCAADAOTJFdkIAAACMLE92QgAAQN4mWXZCAADAys5idkIAAAAdyWx2QgAAgAlxdnZC\",\"dtype\":\"float64\",\"shape\":[36]},\"y\":[287,224,250,384,445,567,511,546,506,432,432,310,362,373,330,318,293,386,500,405,327,284,212,179,316,341,445,366,374,355,402,518,399,310,341,402]},\"selected\":{\"id\":\"7060\",\"type\":\"Selection\"},\"selection_policy\":{\"id\":\"7059\",\"type\":\"UnionRenderers\"}},\"id\":\"7007\",\"type\":\"ColumnDataSource\"},{\"attributes\":{\"label\":{\"value\":\"7.0\"},\"renderers\":[{\"id\":\"7165\",\"type\":\"GlyphRenderer\"}]},\"id\":\"7198\",\"type\":\"LegendItem\"},{\"attributes\":{\"callback\":null},\"id\":\"6950\",\"type\":\"DataRange1d\"},{\"attributes\":{\"line_alpha\":0.8,\"line_color\":\"#ffbb78\",\"line_width\":2,\"x\":{\"field\":\"x\"},\"y\":{\"field\":\"y\"}},\"id\":\"7064\",\"type\":\"Line\"},{\"attributes\":{\"line_alpha\":0.1,\"line_color\":\"#1f77b4\",\"line_width\":2,\"x\":{\"field\":\"x\"},\"y\":{\"field\":\"y\"}},\"id\":\"7129\",\"type\":\"Line\"},{\"attributes\":{\"line_alpha\":0.1,\"line_color\":\"#1f77b4\",\"line_width\":2,\"x\":{\"field\":\"x\"},\"y\":{\"field\":\"y\"}},\"id\":\"7065\",\"type\":\"Line\"},{\"attributes\":{\"data_source\":{\"id\":\"7127\",\"type\":\"ColumnDataSource\"},\"glyph\":{\"id\":\"7128\",\"type\":\"Line\"},\"hover_glyph\":null,\"muted_glyph\":null,\"nonselection_glyph\":{\"id\":\"7129\",\"type\":\"Line\"},\"selection_glyph\":null,\"view\":{\"id\":\"7131\",\"type\":\"CDSView\"}},\"id\":\"7130\",\"type\":\"GlyphRenderer\"},{\"attributes\":{},\"id\":\"7158\",\"type\":\"UnionRenderers\"},{\"attributes\":{},\"id\":\"6973\",\"type\":\"HelpTool\"},{\"attributes\":{},\"id\":\"7090\",\"type\":\"UnionRenderers\"},{\"attributes\":{\"line_alpha\":0.1,\"line_color\":\"#1f77b4\",\"line_width\":2,\"x\":{\"field\":\"x\"},\"y\":{\"field\":\"y\"}},\"id\":\"7164\",\"type\":\"Line\"},{\"attributes\":{\"label\":{\"value\":\"4.0\"},\"renderers\":[{\"id\":\"7066\",\"type\":\"GlyphRenderer\"}]},\"id\":\"7093\",\"type\":\"LegendItem\"},{\"attributes\":{},\"id\":\"6971\",\"type\":\"SaveTool\"},{\"attributes\":{},\"id\":\"7091\",\"type\":\"Selection\"},{\"attributes\":{\"overlay\":{\"id\":\"7004\",\"type\":\"BoxAnnotation\"}},\"id\":\"6970\",\"type\":\"BoxZoomTool\"},{\"attributes\":{\"formatter\":{\"id\":\"6988\",\"type\":\"DatetimeTickFormatter\"},\"ticker\":{\"id\":\"6959\",\"type\":\"DatetimeTicker\"}},\"id\":\"6958\",\"type\":\"DatetimeAxis\"},{\"attributes\":{},\"id\":\"7195\",\"type\":\"UnionRenderers\"},{\"attributes\":{\"line_alpha\":0.8,\"line_color\":\"#d62728\",\"line_width\":2,\"x\":{\"field\":\"x\"},\"y\":{\"field\":\"y\"}},\"id\":\"7163\",\"type\":\"Line\"},{\"attributes\":{\"label\":{\"value\":\"2.0\"},\"renderers\":[{\"id\":\"7010\",\"type\":\"GlyphRenderer\"}]},\"id\":\"7033\",\"type\":\"LegendItem\"},{\"attributes\":{},\"id\":\"6972\",\"type\":\"ResetTool\"},{\"attributes\":{},\"id\":\"7526\",\"type\":\"UnionRenderers\"},{\"attributes\":{\"data_source\":{\"id\":\"7162\",\"type\":\"ColumnDataSource\"},\"glyph\":{\"id\":\"7163\",\"type\":\"Line\"},\"hover_glyph\":null,\"muted_glyph\":null,\"nonselection_glyph\":{\"id\":\"7164\",\"type\":\"Line\"},\"selection_glyph\":null,\"view\":{\"id\":\"7166\",\"type\":\"CDSView\"}},\"id\":\"7165\",\"type\":\"GlyphRenderer\"},{\"attributes\":{\"active_drag\":\"auto\",\"active_inspect\":\"auto\",\"active_multi\":null,\"active_scroll\":\"auto\",\"active_tap\":\"auto\",\"tools\":[{\"id\":\"6968\",\"type\":\"PanTool\"},{\"id\":\"6969\",\"type\":\"WheelZoomTool\"},{\"id\":\"6970\",\"type\":\"BoxZoomTool\"},{\"id\":\"6971\",\"type\":\"SaveTool\"},{\"id\":\"6972\",\"type\":\"ResetTool\"},{\"id\":\"6973\",\"type\":\"HelpTool\"}]},\"id\":\"6974\",\"type\":\"Toolbar\"},{\"attributes\":{\"callback\":null,\"data\":{\"x\":{\"__ndarray__\":\"AADAvacfdUIAAAAQoil1QgAAwJb3MnVCAAAA6fE8dUIAAIDVmUZ1QgAAwCeUUHVCAABAFDxadUIAAIBmNmR1QgAAwLgwbnVCAABApdh3dUIAAID30oF1QgAAAOR6i3VCAABANnWVdUIAAICIb591QgAAgKlyqHVCAADA+2yydUIAAEDoFLx1QgAAgDoPxnVCAAAAJ7fPdUIAAEB5sdl1QgAAgMur43VCAAAAuFPtdUIAAEAKTvd1QgAAwPb1AHZCAAAASfAKdkIAAECb6hR2QgAAQLztHXZCAACADugndkIAAAD7jzF2QgAAQE2KO3ZCAADAOTJFdkIAAACMLE92QgAAQN4mWXZCAADAys5idkIAAAAdyWx2QgAAgAlxdnZC\",\"dtype\":\"float64\",\"shape\":[36]},\"y\":[804,572,759,929,700,630,541,494,573,530,402,262,580,567,521,592,613,476,551,587,741,676,641,544,670,617,939,832,1009,880,1072,1103,1000,929,944,1032]},\"selected\":{\"id\":\"7235\",\"type\":\"Selection\"},\"selection_policy\":{\"id\":\"7234\",\"type\":\"UnionRenderers\"}},\"id\":\"7162\",\"type\":\"ColumnDataSource\"},{\"attributes\":{\"label\":{\"value\":\"5.0\"},\"renderers\":[{\"id\":\"7097\",\"type\":\"GlyphRenderer\"}]},\"id\":\"7126\",\"type\":\"LegendItem\"},{\"attributes\":{\"data_source\":{\"id\":\"6981\",\"type\":\"ColumnDataSource\"},\"glyph\":{\"id\":\"6982\",\"type\":\"Line\"},\"hover_glyph\":null,\"muted_glyph\":null,\"nonselection_glyph\":{\"id\":\"6983\",\"type\":\"Line\"},\"selection_glyph\":null,\"view\":{\"id\":\"6985\",\"type\":\"CDSView\"}},\"id\":\"6984\",\"type\":\"GlyphRenderer\"},{\"attributes\":{\"source\":{\"id\":\"6981\",\"type\":\"ColumnDataSource\"}},\"id\":\"6985\",\"type\":\"CDSView\"},{\"attributes\":{\"line_alpha\":0.1,\"line_color\":\"#1f77b4\",\"line_width\":2,\"x\":{\"field\":\"x\"},\"y\":{\"field\":\"y\"}},\"id\":\"7201\",\"type\":\"Line\"},{\"attributes\":{\"data_source\":{\"id\":\"7007\",\"type\":\"ColumnDataSource\"},\"glyph\":{\"id\":\"7008\",\"type\":\"Line\"},\"hover_glyph\":null,\"muted_glyph\":null,\"nonselection_glyph\":{\"id\":\"7009\",\"type\":\"Line\"},\"selection_glyph\":null,\"view\":{\"id\":\"7011\",\"type\":\"CDSView\"}},\"id\":\"7010\",\"type\":\"GlyphRenderer\"},{\"attributes\":{\"base\":24,\"mantissas\":[1,2,4,6,8,12],\"max_interval\":43200000.0,\"min_interval\":3600000.0,\"num_minor_ticks\":0},\"id\":\"6994\",\"type\":\"AdaptiveTicker\"},{\"attributes\":{\"source\":{\"id\":\"7199\",\"type\":\"ColumnDataSource\"}},\"id\":\"7203\",\"type\":\"CDSView\"},{\"attributes\":{\"text\":\"\"},\"id\":\"6986\",\"type\":\"Title\"},{\"attributes\":{\"source\":{\"id\":\"7007\",\"type\":\"ColumnDataSource\"}},\"id\":\"7011\",\"type\":\"CDSView\"},{\"attributes\":{},\"id\":\"6990\",\"type\":\"BasicTickFormatter\"},{\"attributes\":{\"mantissas\":[1,2,5],\"max_interval\":500.0,\"num_minor_ticks\":0},\"id\":\"6992\",\"type\":\"AdaptiveTicker\"},{\"attributes\":{\"base\":60,\"mantissas\":[1,2,5,10,15,20,30],\"max_interval\":1800000.0,\"min_interval\":1000.0,\"num_minor_ticks\":0},\"id\":\"6993\",\"type\":\"AdaptiveTicker\"},{\"attributes\":{},\"id\":\"6988\",\"type\":\"DatetimeTickFormatter\"},{\"attributes\":{},\"id\":\"7527\",\"type\":\"Selection\"},{\"attributes\":{\"days\":[1,15]},\"id\":\"6998\",\"type\":\"DaysTicker\"},{\"attributes\":{},\"id\":\"7234\",\"type\":\"UnionRenderers\"},{\"attributes\":{},\"id\":\"7235\",\"type\":\"Selection\"},{\"attributes\":{\"label\":{\"value\":\"3.0\"},\"renderers\":[{\"id\":\"7037\",\"type\":\"GlyphRenderer\"}]},\"id\":\"7062\",\"type\":\"LegendItem\"},{\"attributes\":{},\"id\":\"7003\",\"type\":\"YearsTicker\"},{\"attributes\":{\"days\":[1,4,7,10,13,16,19,22,25,28]},\"id\":\"6996\",\"type\":\"DaysTicker\"},{\"attributes\":{\"days\":[1,2,3,4,5,6,7,8,9,10,11,12,13,14,15,16,17,18,19,20,21,22,23,24,25,26,27,28,29,30,31]},\"id\":\"6995\",\"type\":\"DaysTicker\"},{\"attributes\":{\"days\":[1,8,15,22]},\"id\":\"6997\",\"type\":\"DaysTicker\"},{\"attributes\":{},\"id\":\"7031\",\"type\":\"Selection\"},{\"attributes\":{},\"id\":\"7030\",\"type\":\"UnionRenderers\"},{\"attributes\":{\"months\":[0,1,2,3,4,5,6,7,8,9,10,11]},\"id\":\"6999\",\"type\":\"MonthsTicker\"},{\"attributes\":{\"label\":{\"value\":\"8.0\"},\"renderers\":[{\"id\":\"7202\",\"type\":\"GlyphRenderer\"}]},\"id\":\"7237\",\"type\":\"LegendItem\"},{\"attributes\":{\"bottom_units\":\"screen\",\"fill_alpha\":{\"value\":0.5},\"fill_color\":{\"value\":\"lightgrey\"},\"left_units\":\"screen\",\"level\":\"overlay\",\"line_alpha\":{\"value\":1.0},\"line_color\":{\"value\":\"black\"},\"line_dash\":[4,4],\"line_width\":{\"value\":2},\"render_mode\":\"css\",\"right_units\":\"screen\",\"top_units\":\"screen\"},\"id\":\"7004\",\"type\":\"BoxAnnotation\"},{\"attributes\":{\"months\":[0,4,8]},\"id\":\"7001\",\"type\":\"MonthsTicker\"},{\"attributes\":{\"line_alpha\":0.8,\"line_color\":\"#ff9896\",\"line_width\":2,\"x\":{\"field\":\"x\"},\"y\":{\"field\":\"y\"}},\"id\":\"7200\",\"type\":\"Line\"},{\"attributes\":{\"callback\":null,\"data\":{\"x\":{\"__ndarray__\":\"AADAvacfdUIAAAAQoil1QgAAwJb3MnVCAAAA6fE8dUIAAIDVmUZ1QgAAwCeUUHVCAABAFDxadUIAAIBmNmR1QgAAwLgwbnVCAABApdh3dUIAAID30oF1QgAAAOR6i3VCAABANnWVdUIAAICIb591QgAAgKlyqHVCAADA+2yydUIAAEDoFLx1QgAAgDoPxnVCAAAAJ7fPdUIAAEB5sdl1QgAAgMur43VCAAAAuFPtdUIAAEAKTvd1QgAAwPb1AHZCAAAASfAKdkIAAECb6hR2QgAAQLztHXZCAACADugndkIAAAD7jzF2QgAAQE2KO3ZCAADAOTJFdkIAAACMLE92QgAAQN4mWXZCAADAys5idkIAAAAdyWx2QgAAgAlxdnZC\",\"dtype\":\"float64\",\"shape\":[36]},\"y\":[562,354,556,353,354,402,423,391,408,376,357,241,430,491,478,406,403,316,408,432,385,448,417,377,505,583,671,593,534,677,715,772,593,525,476,533]},\"selected\":{\"id\":\"7527\",\"type\":\"Selection\"},\"selection_policy\":{\"id\":\"7526\",\"type\":\"UnionRenderers\"}},\"id\":\"7199\",\"type\":\"ColumnDataSource\"},{\"attributes\":{\"months\":[0,6]},\"id\":\"7002\",\"type\":\"MonthsTicker\"},{\"attributes\":{\"data_source\":{\"id\":\"7199\",\"type\":\"ColumnDataSource\"},\"glyph\":{\"id\":\"7200\",\"type\":\"Line\"},\"hover_glyph\":null,\"muted_glyph\":null,\"nonselection_glyph\":{\"id\":\"7201\",\"type\":\"Line\"},\"selection_glyph\":null,\"view\":{\"id\":\"7203\",\"type\":\"CDSView\"}},\"id\":\"7202\",\"type\":\"GlyphRenderer\"}],\"root_ids\":[\"6949\"]},\"title\":\"Bokeh Application\",\"version\":\"1.4.0\"}};\n",
       "  var render_items = [{\"docid\":\"e77e240a-562a-4430-930d-dda178b4b8fa\",\"roots\":{\"6949\":\"64bf311b-a51b-4e52-b2d8-38053afe8dce\"}}];\n",
       "  root.Bokeh.embed.embed_items_notebook(docs_json, render_items);\n",
       "\n",
       "  }\n",
       "  if (root.Bokeh !== undefined) {\n",
       "    embed_document(root);\n",
       "  } else {\n",
       "    var attempts = 0;\n",
       "    var timer = setInterval(function(root) {\n",
       "      if (root.Bokeh !== undefined) {\n",
       "        clearInterval(timer);\n",
       "        embed_document(root);\n",
       "      } else {\n",
       "        attempts++;\n",
       "        if (attempts > 100) {\n",
       "          clearInterval(timer);\n",
       "          console.log(\"Bokeh: ERROR: Unable to run BokehJS code because BokehJS library is missing\");\n",
       "        }\n",
       "      }\n",
       "    }, 10, root)\n",
       "  }\n",
       "})(window);"
      ],
      "application/vnd.bokehjs_exec.v0+json": ""
     },
     "metadata": {
      "application/vnd.bokehjs_exec.v0+json": {
       "id": "6949"
      }
     },
     "output_type": "display_data"
    }
   ],
   "source": [
    "#Stops in district 7 increasing rapidly. District 7 is Englewood.\n",
    "utils.time_graph(isrs, column='DISTRICT')"
   ]
  },
  {
   "cell_type": "code",
   "execution_count": 66,
   "metadata": {},
   "outputs": [
    {
     "data": {
      "text/html": [
       "\n",
       "\n",
       "\n",
       "\n",
       "\n",
       "\n",
       "  <div class=\"bk-root\" id=\"6cec65f2-5319-45c5-a3b6-8fb313f1ef64\" data-root-id=\"7739\"></div>\n"
      ]
     },
     "metadata": {},
     "output_type": "display_data"
    },
    {
     "data": {
      "application/javascript": [
       "(function(root) {\n",
       "  function embed_document(root) {\n",
       "    \n",
       "  var docs_json = {\"374bda68-5242-463a-b6cd-487ed4581b93\":{\"roots\":{\"references\":[{\"attributes\":{\"below\":[{\"id\":\"7748\",\"type\":\"DatetimeAxis\"}],\"center\":[{\"id\":\"7752\",\"type\":\"Grid\"},{\"id\":\"7757\",\"type\":\"Grid\"},{\"id\":\"7795\",\"type\":\"Legend\"}],\"left\":[{\"id\":\"7753\",\"type\":\"LinearAxis\"}],\"renderers\":[{\"id\":\"7774\",\"type\":\"GlyphRenderer\"},{\"id\":\"7800\",\"type\":\"GlyphRenderer\"}],\"title\":{\"id\":\"7776\",\"type\":\"Title\"},\"toolbar\":{\"id\":\"7764\",\"type\":\"Toolbar\"},\"x_range\":{\"id\":\"7740\",\"type\":\"DataRange1d\"},\"x_scale\":{\"id\":\"7744\",\"type\":\"LinearScale\"},\"y_range\":{\"id\":\"7742\",\"type\":\"DataRange1d\"},\"y_scale\":{\"id\":\"7746\",\"type\":\"LinearScale\"}},\"id\":\"7739\",\"subtype\":\"Figure\",\"type\":\"Plot\"},{\"attributes\":{},\"id\":\"7821\",\"type\":\"Selection\"},{\"attributes\":{},\"id\":\"7744\",\"type\":\"LinearScale\"},{\"attributes\":{},\"id\":\"7763\",\"type\":\"HelpTool\"},{\"attributes\":{\"line_alpha\":0.1,\"line_color\":\"#1f77b4\",\"line_width\":2,\"x\":{\"field\":\"x\"},\"y\":{\"field\":\"y\"}},\"id\":\"7773\",\"type\":\"Line\"},{\"attributes\":{\"days\":[1,4,7,10,13,16,19,22,25,28]},\"id\":\"7786\",\"type\":\"DaysTicker\"},{\"attributes\":{\"line_alpha\":0.8,\"line_color\":\"#1f77b4\",\"line_width\":2,\"x\":{\"field\":\"x\"},\"y\":{\"field\":\"y\"}},\"id\":\"7772\",\"type\":\"Line\"},{\"attributes\":{\"source\":{\"id\":\"7797\",\"type\":\"ColumnDataSource\"}},\"id\":\"7801\",\"type\":\"CDSView\"},{\"attributes\":{},\"id\":\"7759\",\"type\":\"WheelZoomTool\"},{\"attributes\":{\"line_alpha\":0.1,\"line_color\":\"#1f77b4\",\"line_width\":2,\"x\":{\"field\":\"x\"},\"y\":{\"field\":\"y\"}},\"id\":\"7799\",\"type\":\"Line\"},{\"attributes\":{},\"id\":\"7780\",\"type\":\"BasicTickFormatter\"},{\"attributes\":{\"formatter\":{\"id\":\"7778\",\"type\":\"DatetimeTickFormatter\"},\"ticker\":{\"id\":\"7749\",\"type\":\"DatetimeTicker\"}},\"id\":\"7748\",\"type\":\"DatetimeAxis\"},{\"attributes\":{\"months\":[0,2,4,6,8,10]},\"id\":\"7790\",\"type\":\"MonthsTicker\"},{\"attributes\":{\"days\":[1,15]},\"id\":\"7788\",\"type\":\"DaysTicker\"},{\"attributes\":{},\"id\":\"7820\",\"type\":\"UnionRenderers\"},{\"attributes\":{\"mantissas\":[1,2,5],\"max_interval\":500.0,\"num_minor_ticks\":0},\"id\":\"7782\",\"type\":\"AdaptiveTicker\"},{\"attributes\":{\"callback\":null},\"id\":\"7742\",\"type\":\"DataRange1d\"},{\"attributes\":{\"days\":[1,8,15,22]},\"id\":\"7787\",\"type\":\"DaysTicker\"},{\"attributes\":{\"text\":\"\"},\"id\":\"7776\",\"type\":\"Title\"},{\"attributes\":{\"line_alpha\":0.8,\"line_color\":\"#aec7e8\",\"line_width\":2,\"x\":{\"field\":\"x\"},\"y\":{\"field\":\"y\"}},\"id\":\"7798\",\"type\":\"Line\"},{\"attributes\":{\"dimension\":1,\"ticker\":{\"id\":\"7754\",\"type\":\"BasicTicker\"}},\"id\":\"7757\",\"type\":\"Grid\"},{\"attributes\":{\"callback\":null,\"data\":{\"x\":{\"__ndarray__\":\"AADAvacfdUIAAAAQoil1QgAAwJb3MnVCAAAA6fE8dUIAAIDVmUZ1QgAAwCeUUHVCAABAFDxadUIAAIBmNmR1QgAAwLgwbnVCAABApdh3dUIAAID30oF1QgAAAOR6i3VCAABANnWVdUIAAICIb591QgAAgKlyqHVCAADA+2yydUIAAEDoFLx1QgAAgDoPxnVCAAAAJ7fPdUIAAEB5sdl1QgAAgMur43VCAAAAuFPtdUIAAEAKTvd1QgAAwPb1AHZCAAAASfAKdkIAAECb6hR2QgAAQLztHXZCAACADugndkIAAAD7jzF2QgAAQE2KO3ZCAADAOTJFdkIAAACMLE92QgAAQN4mWXZCAADAys5idkIAAAAdyWx2QgAAgAlxdnZC\",\"dtype\":\"float64\",\"shape\":[36]},\"y\":[4809,3196,5005,5627,6516,6668,6263,5845,5741,5481,4404,3859,5399,5418,5215,5020,5173,4815,5768,5844,5363,5048,4825,4044,5323,5144,7307,6808,7875,6986,8388,8179,6843,6278,5395,5398]},\"selected\":{\"id\":\"7821\",\"type\":\"Selection\"},\"selection_policy\":{\"id\":\"7820\",\"type\":\"UnionRenderers\"}},\"id\":\"7771\",\"type\":\"ColumnDataSource\"},{\"attributes\":{\"label\":{\"value\":\"N\"},\"renderers\":[{\"id\":\"7774\",\"type\":\"GlyphRenderer\"}]},\"id\":\"7796\",\"type\":\"LegendItem\"},{\"attributes\":{\"base\":60,\"mantissas\":[1,2,5,10,15,20,30],\"max_interval\":1800000.0,\"min_interval\":1000.0,\"num_minor_ticks\":0},\"id\":\"7783\",\"type\":\"AdaptiveTicker\"},{\"attributes\":{\"active_drag\":\"auto\",\"active_inspect\":\"auto\",\"active_multi\":null,\"active_scroll\":\"auto\",\"active_tap\":\"auto\",\"tools\":[{\"id\":\"7758\",\"type\":\"PanTool\"},{\"id\":\"7759\",\"type\":\"WheelZoomTool\"},{\"id\":\"7760\",\"type\":\"BoxZoomTool\"},{\"id\":\"7761\",\"type\":\"SaveTool\"},{\"id\":\"7762\",\"type\":\"ResetTool\"},{\"id\":\"7763\",\"type\":\"HelpTool\"}]},\"id\":\"7764\",\"type\":\"Toolbar\"},{\"attributes\":{},\"id\":\"7754\",\"type\":\"BasicTicker\"},{\"attributes\":{\"formatter\":{\"id\":\"7780\",\"type\":\"BasicTickFormatter\"},\"ticker\":{\"id\":\"7754\",\"type\":\"BasicTicker\"}},\"id\":\"7753\",\"type\":\"LinearAxis\"},{\"attributes\":{},\"id\":\"8135\",\"type\":\"UnionRenderers\"},{\"attributes\":{\"num_minor_ticks\":5,\"tickers\":[{\"id\":\"7782\",\"type\":\"AdaptiveTicker\"},{\"id\":\"7783\",\"type\":\"AdaptiveTicker\"},{\"id\":\"7784\",\"type\":\"AdaptiveTicker\"},{\"id\":\"7785\",\"type\":\"DaysTicker\"},{\"id\":\"7786\",\"type\":\"DaysTicker\"},{\"id\":\"7787\",\"type\":\"DaysTicker\"},{\"id\":\"7788\",\"type\":\"DaysTicker\"},{\"id\":\"7789\",\"type\":\"MonthsTicker\"},{\"id\":\"7790\",\"type\":\"MonthsTicker\"},{\"id\":\"7791\",\"type\":\"MonthsTicker\"},{\"id\":\"7792\",\"type\":\"MonthsTicker\"},{\"id\":\"7793\",\"type\":\"YearsTicker\"}]},\"id\":\"7749\",\"type\":\"DatetimeTicker\"},{\"attributes\":{\"days\":[1,2,3,4,5,6,7,8,9,10,11,12,13,14,15,16,17,18,19,20,21,22,23,24,25,26,27,28,29,30,31]},\"id\":\"7785\",\"type\":\"DaysTicker\"},{\"attributes\":{},\"id\":\"7746\",\"type\":\"LinearScale\"},{\"attributes\":{\"source\":{\"id\":\"7771\",\"type\":\"ColumnDataSource\"}},\"id\":\"7775\",\"type\":\"CDSView\"},{\"attributes\":{},\"id\":\"7758\",\"type\":\"PanTool\"},{\"attributes\":{\"months\":[0,1,2,3,4,5,6,7,8,9,10,11]},\"id\":\"7789\",\"type\":\"MonthsTicker\"},{\"attributes\":{},\"id\":\"7762\",\"type\":\"ResetTool\"},{\"attributes\":{\"months\":[0,4,8]},\"id\":\"7791\",\"type\":\"MonthsTicker\"},{\"attributes\":{\"callback\":null,\"data\":{\"x\":{\"__ndarray__\":\"AADAvacfdUIAAAAQoil1QgAAwJb3MnVCAAAA6fE8dUIAAIDVmUZ1QgAAwCeUUHVCAABAFDxadUIAAIBmNmR1QgAAwLgwbnVCAABApdh3dUIAAID30oF1QgAAAOR6i3VCAABANnWVdUIAAICIb591QgAAgKlyqHVCAADA+2yydUIAAEDoFLx1QgAAgDoPxnVCAAAAJ7fPdUIAAEB5sdl1QgAAgMur43VCAAAAuFPtdUIAAEAKTvd1QgAAwPb1AHZCAAAASfAKdkIAAECb6hR2QgAAQLztHXZCAACADugndkIAAAD7jzF2QgAAQE2KO3ZCAADAOTJFdkIAAACMLE92QgAAQN4mWXZCAADAys5idkIAAAAdyWx2QgAAgAlxdnZC\",\"dtype\":\"float64\",\"shape\":[36]},\"y\":[2981,2006,2881,2786,2951,2526,2124,1895,2179,2490,2114,1660,2579,2579,2400,2841,2806,2429,2643,2536,2620,2649,2577,2415,3081,2943,3657,3197,3437,2768,2868,2844,2609,2820,2747,2850]},\"selected\":{\"id\":\"8136\",\"type\":\"Selection\"},\"selection_policy\":{\"id\":\"8135\",\"type\":\"UnionRenderers\"}},\"id\":\"7797\",\"type\":\"ColumnDataSource\"},{\"attributes\":{\"data_source\":{\"id\":\"7771\",\"type\":\"ColumnDataSource\"},\"glyph\":{\"id\":\"7772\",\"type\":\"Line\"},\"hover_glyph\":null,\"muted_glyph\":null,\"nonselection_glyph\":{\"id\":\"7773\",\"type\":\"Line\"},\"selection_glyph\":null,\"view\":{\"id\":\"7775\",\"type\":\"CDSView\"}},\"id\":\"7774\",\"type\":\"GlyphRenderer\"},{\"attributes\":{\"overlay\":{\"id\":\"7794\",\"type\":\"BoxAnnotation\"}},\"id\":\"7760\",\"type\":\"BoxZoomTool\"},{\"attributes\":{\"months\":[0,6]},\"id\":\"7792\",\"type\":\"MonthsTicker\"},{\"attributes\":{},\"id\":\"7761\",\"type\":\"SaveTool\"},{\"attributes\":{\"bottom_units\":\"screen\",\"fill_alpha\":{\"value\":0.5},\"fill_color\":{\"value\":\"lightgrey\"},\"left_units\":\"screen\",\"level\":\"overlay\",\"line_alpha\":{\"value\":1.0},\"line_color\":{\"value\":\"black\"},\"line_dash\":[4,4],\"line_width\":{\"value\":2},\"render_mode\":\"css\",\"right_units\":\"screen\",\"top_units\":\"screen\"},\"id\":\"7794\",\"type\":\"BoxAnnotation\"},{\"attributes\":{\"callback\":null},\"id\":\"7740\",\"type\":\"DataRange1d\"},{\"attributes\":{\"base\":24,\"mantissas\":[1,2,4,6,8,12],\"max_interval\":43200000.0,\"min_interval\":3600000.0,\"num_minor_ticks\":0},\"id\":\"7784\",\"type\":\"AdaptiveTicker\"},{\"attributes\":{\"items\":[{\"id\":\"7796\",\"type\":\"LegendItem\"},{\"id\":\"7823\",\"type\":\"LegendItem\"}]},\"id\":\"7795\",\"type\":\"Legend\"},{\"attributes\":{\"ticker\":{\"id\":\"7749\",\"type\":\"DatetimeTicker\"}},\"id\":\"7752\",\"type\":\"Grid\"},{\"attributes\":{\"label\":{\"value\":\"Y\"},\"renderers\":[{\"id\":\"7800\",\"type\":\"GlyphRenderer\"}]},\"id\":\"7823\",\"type\":\"LegendItem\"},{\"attributes\":{},\"id\":\"7793\",\"type\":\"YearsTicker\"},{\"attributes\":{},\"id\":\"7778\",\"type\":\"DatetimeTickFormatter\"},{\"attributes\":{\"data_source\":{\"id\":\"7797\",\"type\":\"ColumnDataSource\"},\"glyph\":{\"id\":\"7798\",\"type\":\"Line\"},\"hover_glyph\":null,\"muted_glyph\":null,\"nonselection_glyph\":{\"id\":\"7799\",\"type\":\"Line\"},\"selection_glyph\":null,\"view\":{\"id\":\"7801\",\"type\":\"CDSView\"}},\"id\":\"7800\",\"type\":\"GlyphRenderer\"},{\"attributes\":{},\"id\":\"8136\",\"type\":\"Selection\"}],\"root_ids\":[\"7739\"]},\"title\":\"Bokeh Application\",\"version\":\"1.4.0\"}};\n",
       "  var render_items = [{\"docid\":\"374bda68-5242-463a-b6cd-487ed4581b93\",\"roots\":{\"7739\":\"6cec65f2-5319-45c5-a3b6-8fb313f1ef64\"}}];\n",
       "  root.Bokeh.embed.embed_items_notebook(docs_json, render_items);\n",
       "\n",
       "  }\n",
       "  if (root.Bokeh !== undefined) {\n",
       "    embed_document(root);\n",
       "  } else {\n",
       "    var attempts = 0;\n",
       "    var timer = setInterval(function(root) {\n",
       "      if (root.Bokeh !== undefined) {\n",
       "        clearInterval(timer);\n",
       "        embed_document(root);\n",
       "      } else {\n",
       "        attempts++;\n",
       "        if (attempts > 100) {\n",
       "          clearInterval(timer);\n",
       "          console.log(\"Bokeh: ERROR: Unable to run BokehJS code because BokehJS library is missing\");\n",
       "        }\n",
       "      }\n",
       "    }, 10, root)\n",
       "  }\n",
       "})(window);"
      ],
      "application/vnd.bokehjs_exec.v0+json": ""
     },
     "metadata": {
      "application/vnd.bokehjs_exec.v0+json": {
       "id": "7739"
      }
     },
     "output_type": "display_data"
    }
   ],
   "source": [
    "#Split between whether or not a pat down was conducted. Seems like most of the rise in stops do not involve pat downs.\n",
    "utils.time_graph(isrs, column='PAT_DOWN_I')"
   ]
  },
  {
   "cell_type": "code",
   "execution_count": 67,
   "metadata": {},
   "outputs": [
    {
     "data": {
      "text/html": [
       "\n",
       "\n",
       "\n",
       "\n",
       "\n",
       "\n",
       "  <div class=\"bk-root\" id=\"03801279-01f1-45bd-84d2-7e26c79472c7\" data-root-id=\"8276\"></div>\n"
      ]
     },
     "metadata": {},
     "output_type": "display_data"
    },
    {
     "data": {
      "application/javascript": [
       "(function(root) {\n",
       "  function embed_document(root) {\n",
       "    \n",
       "  var docs_json = {\"03cbb1b1-1838-4efb-a4f5-772b8c73c7e3\":{\"roots\":{\"references\":[{\"attributes\":{\"below\":[{\"id\":\"8285\",\"type\":\"DatetimeAxis\"}],\"center\":[{\"id\":\"8289\",\"type\":\"Grid\"},{\"id\":\"8294\",\"type\":\"Grid\"},{\"id\":\"8332\",\"type\":\"Legend\"}],\"left\":[{\"id\":\"8290\",\"type\":\"LinearAxis\"}],\"renderers\":[{\"id\":\"8311\",\"type\":\"GlyphRenderer\"},{\"id\":\"8337\",\"type\":\"GlyphRenderer\"}],\"title\":{\"id\":\"8313\",\"type\":\"Title\"},\"toolbar\":{\"id\":\"8301\",\"type\":\"Toolbar\"},\"x_range\":{\"id\":\"8277\",\"type\":\"DataRange1d\"},\"x_scale\":{\"id\":\"8281\",\"type\":\"LinearScale\"},\"y_range\":{\"id\":\"8279\",\"type\":\"DataRange1d\"},\"y_scale\":{\"id\":\"8283\",\"type\":\"LinearScale\"}},\"id\":\"8276\",\"subtype\":\"Figure\",\"type\":\"Plot\"},{\"attributes\":{\"source\":{\"id\":\"8334\",\"type\":\"ColumnDataSource\"}},\"id\":\"8338\",\"type\":\"CDSView\"},{\"attributes\":{\"days\":[1,4,7,10,13,16,19,22,25,28]},\"id\":\"8323\",\"type\":\"DaysTicker\"},{\"attributes\":{\"line_alpha\":0.1,\"line_color\":\"#1f77b4\",\"line_width\":2,\"x\":{\"field\":\"x\"},\"y\":{\"field\":\"y\"}},\"id\":\"8336\",\"type\":\"Line\"},{\"attributes\":{},\"id\":\"8281\",\"type\":\"LinearScale\"},{\"attributes\":{\"line_alpha\":0.8,\"line_color\":\"#1f77b4\",\"line_width\":2,\"x\":{\"field\":\"x\"},\"y\":{\"field\":\"y\"}},\"id\":\"8309\",\"type\":\"Line\"},{\"attributes\":{\"label\":{\"value\":\"N\"},\"renderers\":[{\"id\":\"8311\",\"type\":\"GlyphRenderer\"}]},\"id\":\"8333\",\"type\":\"LegendItem\"},{\"attributes\":{\"months\":[0,1,2,3,4,5,6,7,8,9,10,11]},\"id\":\"8326\",\"type\":\"MonthsTicker\"},{\"attributes\":{\"text\":\"\"},\"id\":\"8313\",\"type\":\"Title\"},{\"attributes\":{\"base\":24,\"mantissas\":[1,2,4,6,8,12],\"max_interval\":43200000.0,\"min_interval\":3600000.0,\"num_minor_ticks\":0},\"id\":\"8321\",\"type\":\"AdaptiveTicker\"},{\"attributes\":{},\"id\":\"8330\",\"type\":\"YearsTicker\"},{\"attributes\":{\"line_alpha\":0.1,\"line_color\":\"#1f77b4\",\"line_width\":2,\"x\":{\"field\":\"x\"},\"y\":{\"field\":\"y\"}},\"id\":\"8310\",\"type\":\"Line\"},{\"attributes\":{\"mantissas\":[1,2,5],\"max_interval\":500.0,\"num_minor_ticks\":0},\"id\":\"8319\",\"type\":\"AdaptiveTicker\"},{\"attributes\":{\"months\":[0,2,4,6,8,10]},\"id\":\"8327\",\"type\":\"MonthsTicker\"},{\"attributes\":{},\"id\":\"8358\",\"type\":\"Selection\"},{\"attributes\":{\"formatter\":{\"id\":\"8317\",\"type\":\"BasicTickFormatter\"},\"ticker\":{\"id\":\"8291\",\"type\":\"BasicTicker\"}},\"id\":\"8290\",\"type\":\"LinearAxis\"},{\"attributes\":{\"items\":[{\"id\":\"8333\",\"type\":\"LegendItem\"},{\"id\":\"8360\",\"type\":\"LegendItem\"}]},\"id\":\"8332\",\"type\":\"Legend\"},{\"attributes\":{\"data_source\":{\"id\":\"8308\",\"type\":\"ColumnDataSource\"},\"glyph\":{\"id\":\"8309\",\"type\":\"Line\"},\"hover_glyph\":null,\"muted_glyph\":null,\"nonselection_glyph\":{\"id\":\"8310\",\"type\":\"Line\"},\"selection_glyph\":null,\"view\":{\"id\":\"8312\",\"type\":\"CDSView\"}},\"id\":\"8311\",\"type\":\"GlyphRenderer\"},{\"attributes\":{\"line_alpha\":0.8,\"line_color\":\"#aec7e8\",\"line_width\":2,\"x\":{\"field\":\"x\"},\"y\":{\"field\":\"y\"}},\"id\":\"8335\",\"type\":\"Line\"},{\"attributes\":{},\"id\":\"8291\",\"type\":\"BasicTicker\"},{\"attributes\":{\"overlay\":{\"id\":\"8331\",\"type\":\"BoxAnnotation\"}},\"id\":\"8297\",\"type\":\"BoxZoomTool\"},{\"attributes\":{\"source\":{\"id\":\"8308\",\"type\":\"ColumnDataSource\"}},\"id\":\"8312\",\"type\":\"CDSView\"},{\"attributes\":{},\"id\":\"8295\",\"type\":\"PanTool\"},{\"attributes\":{\"days\":[1,15]},\"id\":\"8325\",\"type\":\"DaysTicker\"},{\"attributes\":{\"callback\":null},\"id\":\"8277\",\"type\":\"DataRange1d\"},{\"attributes\":{\"data_source\":{\"id\":\"8334\",\"type\":\"ColumnDataSource\"},\"glyph\":{\"id\":\"8335\",\"type\":\"Line\"},\"hover_glyph\":null,\"muted_glyph\":null,\"nonselection_glyph\":{\"id\":\"8336\",\"type\":\"Line\"},\"selection_glyph\":null,\"view\":{\"id\":\"8338\",\"type\":\"CDSView\"}},\"id\":\"8337\",\"type\":\"GlyphRenderer\"},{\"attributes\":{},\"id\":\"8315\",\"type\":\"DatetimeTickFormatter\"},{\"attributes\":{\"months\":[0,4,8]},\"id\":\"8328\",\"type\":\"MonthsTicker\"},{\"attributes\":{\"callback\":null,\"data\":{\"x\":{\"__ndarray__\":\"AADAvacfdUIAAAAQoil1QgAAwJb3MnVCAAAA6fE8dUIAAIDVmUZ1QgAAwCeUUHVCAABAFDxadUIAAIBmNmR1QgAAwLgwbnVCAABApdh3dUIAAID30oF1QgAAAOR6i3VCAABANnWVdUIAAICIb591QgAAgKlyqHVCAADA+2yydUIAAEDoFLx1QgAAgDoPxnVCAAAAJ7fPdUIAAEB5sdl1QgAAgMur43VCAAAAuFPtdUIAAEAKTvd1QgAAwPb1AHZCAAAASfAKdkIAAECb6hR2QgAAQLztHXZCAACADugndkIAAAD7jzF2QgAAQE2KO3ZCAADAOTJFdkIAAACMLE92QgAAQN4mWXZCAADAys5idkIAAAAdyWx2QgAAgAlxdnZC\",\"dtype\":\"float64\",\"shape\":[36]},\"y\":[5530,3973,6497,7063,8111,7955,7376,6831,6888,6796,5458,4559,6648,6717,6238,6505,6548,5965,6886,6798,6489,6301,5934,5222,6816,6550,8898,8168,9322,7990,9340,9235,7792,7433,6321,6319]},\"selected\":{\"id\":\"8358\",\"type\":\"Selection\"},\"selection_policy\":{\"id\":\"8357\",\"type\":\"UnionRenderers\"}},\"id\":\"8308\",\"type\":\"ColumnDataSource\"},{\"attributes\":{\"callback\":null,\"data\":{\"x\":{\"__ndarray__\":\"AADAvacfdUIAAAAQoil1QgAAwJb3MnVCAAAA6fE8dUIAAIDVmUZ1QgAAwCeUUHVCAABAFDxadUIAAIBmNmR1QgAAwLgwbnVCAABApdh3dUIAAID30oF1QgAAAOR6i3VCAABANnWVdUIAAICIb591QgAAgKlyqHVCAADA+2yydUIAAEDoFLx1QgAAgDoPxnVCAAAAJ7fPdUIAAEB5sdl1QgAAgMur43VCAAAAuFPtdUIAAEAKTvd1QgAAwPb1AHZCAAAASfAKdkIAAECb6hR2QgAAQLztHXZCAACADugndkIAAAD7jzF2QgAAQE2KO3ZCAADAOTJFdkIAAACMLE92QgAAQN4mWXZCAADAys5idkIAAAAdyWx2QgAAgAlxdnZC\",\"dtype\":\"float64\",\"shape\":[36]},\"y\":[2260,1229,1389,1350,1356,1239,1011,909,1032,1175,1060,960,1330,1280,1377,1356,1431,1279,1525,1582,1494,1396,1468,1237,1588,1537,2066,1837,1990,1764,1916,1788,1660,1665,1821,1929]},\"selected\":{\"id\":\"8696\",\"type\":\"Selection\"},\"selection_policy\":{\"id\":\"8695\",\"type\":\"UnionRenderers\"}},\"id\":\"8334\",\"type\":\"ColumnDataSource\"},{\"attributes\":{},\"id\":\"8283\",\"type\":\"LinearScale\"},{\"attributes\":{},\"id\":\"8357\",\"type\":\"UnionRenderers\"},{\"attributes\":{},\"id\":\"8300\",\"type\":\"HelpTool\"},{\"attributes\":{\"label\":{\"value\":\"Y\"},\"renderers\":[{\"id\":\"8337\",\"type\":\"GlyphRenderer\"}]},\"id\":\"8360\",\"type\":\"LegendItem\"},{\"attributes\":{\"bottom_units\":\"screen\",\"fill_alpha\":{\"value\":0.5},\"fill_color\":{\"value\":\"lightgrey\"},\"left_units\":\"screen\",\"level\":\"overlay\",\"line_alpha\":{\"value\":1.0},\"line_color\":{\"value\":\"black\"},\"line_dash\":[4,4],\"line_width\":{\"value\":2},\"render_mode\":\"css\",\"right_units\":\"screen\",\"top_units\":\"screen\"},\"id\":\"8331\",\"type\":\"BoxAnnotation\"},{\"attributes\":{\"dimension\":1,\"ticker\":{\"id\":\"8291\",\"type\":\"BasicTicker\"}},\"id\":\"8294\",\"type\":\"Grid\"},{\"attributes\":{},\"id\":\"8298\",\"type\":\"SaveTool\"},{\"attributes\":{\"days\":[1,2,3,4,5,6,7,8,9,10,11,12,13,14,15,16,17,18,19,20,21,22,23,24,25,26,27,28,29,30,31]},\"id\":\"8322\",\"type\":\"DaysTicker\"},{\"attributes\":{},\"id\":\"8696\",\"type\":\"Selection\"},{\"attributes\":{\"days\":[1,8,15,22]},\"id\":\"8324\",\"type\":\"DaysTicker\"},{\"attributes\":{},\"id\":\"8317\",\"type\":\"BasicTickFormatter\"},{\"attributes\":{},\"id\":\"8695\",\"type\":\"UnionRenderers\"},{\"attributes\":{},\"id\":\"8296\",\"type\":\"WheelZoomTool\"},{\"attributes\":{\"base\":60,\"mantissas\":[1,2,5,10,15,20,30],\"max_interval\":1800000.0,\"min_interval\":1000.0,\"num_minor_ticks\":0},\"id\":\"8320\",\"type\":\"AdaptiveTicker\"},{\"attributes\":{\"active_drag\":\"auto\",\"active_inspect\":\"auto\",\"active_multi\":null,\"active_scroll\":\"auto\",\"active_tap\":\"auto\",\"tools\":[{\"id\":\"8295\",\"type\":\"PanTool\"},{\"id\":\"8296\",\"type\":\"WheelZoomTool\"},{\"id\":\"8297\",\"type\":\"BoxZoomTool\"},{\"id\":\"8298\",\"type\":\"SaveTool\"},{\"id\":\"8299\",\"type\":\"ResetTool\"},{\"id\":\"8300\",\"type\":\"HelpTool\"}]},\"id\":\"8301\",\"type\":\"Toolbar\"},{\"attributes\":{\"callback\":null},\"id\":\"8279\",\"type\":\"DataRange1d\"},{\"attributes\":{\"ticker\":{\"id\":\"8286\",\"type\":\"DatetimeTicker\"}},\"id\":\"8289\",\"type\":\"Grid\"},{\"attributes\":{\"months\":[0,6]},\"id\":\"8329\",\"type\":\"MonthsTicker\"},{\"attributes\":{},\"id\":\"8299\",\"type\":\"ResetTool\"},{\"attributes\":{\"num_minor_ticks\":5,\"tickers\":[{\"id\":\"8319\",\"type\":\"AdaptiveTicker\"},{\"id\":\"8320\",\"type\":\"AdaptiveTicker\"},{\"id\":\"8321\",\"type\":\"AdaptiveTicker\"},{\"id\":\"8322\",\"type\":\"DaysTicker\"},{\"id\":\"8323\",\"type\":\"DaysTicker\"},{\"id\":\"8324\",\"type\":\"DaysTicker\"},{\"id\":\"8325\",\"type\":\"DaysTicker\"},{\"id\":\"8326\",\"type\":\"MonthsTicker\"},{\"id\":\"8327\",\"type\":\"MonthsTicker\"},{\"id\":\"8328\",\"type\":\"MonthsTicker\"},{\"id\":\"8329\",\"type\":\"MonthsTicker\"},{\"id\":\"8330\",\"type\":\"YearsTicker\"}]},\"id\":\"8286\",\"type\":\"DatetimeTicker\"},{\"attributes\":{\"formatter\":{\"id\":\"8315\",\"type\":\"DatetimeTickFormatter\"},\"ticker\":{\"id\":\"8286\",\"type\":\"DatetimeTicker\"}},\"id\":\"8285\",\"type\":\"DatetimeAxis\"}],\"root_ids\":[\"8276\"]},\"title\":\"Bokeh Application\",\"version\":\"1.4.0\"}};\n",
       "  var render_items = [{\"docid\":\"03cbb1b1-1838-4efb-a4f5-772b8c73c7e3\",\"roots\":{\"8276\":\"03801279-01f1-45bd-84d2-7e26c79472c7\"}}];\n",
       "  root.Bokeh.embed.embed_items_notebook(docs_json, render_items);\n",
       "\n",
       "  }\n",
       "  if (root.Bokeh !== undefined) {\n",
       "    embed_document(root);\n",
       "  } else {\n",
       "    var attempts = 0;\n",
       "    var timer = setInterval(function(root) {\n",
       "      if (root.Bokeh !== undefined) {\n",
       "        clearInterval(timer);\n",
       "        embed_document(root);\n",
       "      } else {\n",
       "        attempts++;\n",
       "        if (attempts > 100) {\n",
       "          clearInterval(timer);\n",
       "          console.log(\"Bokeh: ERROR: Unable to run BokehJS code because BokehJS library is missing\");\n",
       "        }\n",
       "      }\n",
       "    }, 10, root)\n",
       "  }\n",
       "})(window);"
      ],
      "application/vnd.bokehjs_exec.v0+json": ""
     },
     "metadata": {
      "application/vnd.bokehjs_exec.v0+json": {
       "id": "8276"
      }
     },
     "output_type": "display_data"
    }
   ],
   "source": [
    "#Split between whether or not a search was conducted. Seems like most of the rise in stops do not involve searches.\n",
    "utils.time_graph(isrs, column='SEARCH_I')"
   ]
  }
 ],
 "metadata": {
  "kernelspec": {
   "display_name": "Python 3",
   "language": "python",
   "name": "python3"
  },
  "language_info": {
   "codemirror_mode": {
    "name": "ipython",
    "version": 3
   },
   "file_extension": ".py",
   "mimetype": "text/x-python",
   "name": "python",
   "nbconvert_exporter": "python",
   "pygments_lexer": "ipython3",
   "version": "3.7.3"
  }
 },
 "nbformat": 4,
 "nbformat_minor": 2
}
